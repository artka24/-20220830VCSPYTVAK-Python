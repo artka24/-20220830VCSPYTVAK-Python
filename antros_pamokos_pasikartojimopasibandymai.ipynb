{
 "cells": [
  {
   "cell_type": "code",
   "execution_count": 49,
   "metadata": {},
   "outputs": [
    {
     "name": "stdout",
     "output_type": "stream",
     "text": [
      "Hellow world world\n"
     ]
    }
   ],
   "source": [
    "text = \"Hellow world world\"\n",
    "print(text)"
   ]
  },
  {
   "cell_type": "code",
   "execution_count": 16,
   "metadata": {},
   "outputs": [
    {
     "name": "stdout",
     "output_type": "stream",
     "text": [
      "False\n",
      "True\n",
      "False\n",
      "True\n"
     ]
    }
   ],
   "source": [
    "#ISDIGIT-Ar tekstas yra skaiciai(esant tarpams prie skaiciu-ats FLASE)\n",
    "print(text.isdigit() )\n",
    "print ('1993'.isdigit() )\n",
    "print ('1993 '.isdigit() )\n",
    "print('1993 '.strip().isdigit() )"
   ]
  },
  {
   "cell_type": "code",
   "execution_count": 20,
   "metadata": {},
   "outputs": [
    {
     "name": "stdout",
     "output_type": "stream",
     "text": [
      "    Hellow world world    \n",
      "Hellow world world\n"
     ]
    }
   ],
   "source": [
    "#STRIP-Pasalina tarpus is sonu#\n",
    "text = \"    Hellow world world    \"\n",
    "print(text)\n",
    "print(text.strip())"
   ]
  },
  {
   "cell_type": "code",
   "execution_count": 48,
   "metadata": {},
   "outputs": [
    {
     "name": "stdout",
     "output_type": "stream",
     "text": [
      "Hello\\world\n",
      "World   \n"
     ]
    }
   ],
   "source": [
    "# \\n  Nauja eilute\n",
    "text = 'Hello\\world\\nWorld   '\n",
    "print(text)"
   ]
  },
  {
   "cell_type": "code",
   "execution_count": 47,
   "metadata": {},
   "outputs": [
    {
     "name": "stdout",
     "output_type": "stream",
     "text": [
      "MY NAME IS ARTURAS, I LIVE IN VILNIUS VILNIUS\n",
      "my name is arturas, i live in vilnius vilnius\n",
      "My name is arturas, i live in vilnius vilnius\n",
      "1\n",
      "2\n",
      "11\n",
      "My name is \n",
      "My name is Arturas\n"
     ]
    }
   ],
   "source": [
    "text_2 = 'My name is Arturas, I live in Vilnius vilnius'\n",
    "print(text_2.upper())\n",
    "print(text_2.lower())\n",
    "print(text_2.capitalize())\n",
    "print(text_2.count('Vilnius'))\n",
    "print(text_2.lower().count('vilnius'))\n",
    "print(text_2.find('Arturas'))\n",
    "print(text_2[0:text_2.find('Arturas')])\n",
    "print(text_2[0:text_2.find('Arturas')+len('Arutras')])"
   ]
  },
  {
   "cell_type": "code",
   "execution_count": 4,
   "metadata": {},
   "outputs": [
    {
     "name": "stdout",
     "output_type": "stream",
     "text": [
      "My name is , I live in Vilnius Arturas\n",
      "Arturas vilnius\n"
     ]
    }
   ],
   "source": [
    "text_2 = 'My name is , I live in Vilnius Arturas vilnius'\n",
    "print( text_2[0: text_2.find('Arturas') + len('Arturas')])\n",
    "print( text_2[ text_2.find('Arturas') : ])"
   ]
  },
  {
   "cell_type": "code",
   "execution_count": 9,
   "metadata": {},
   "outputs": [
    {
     "data": {
      "text/plain": [
       "'Arturas Titas'"
      ]
     },
     "execution_count": 9,
     "metadata": {},
     "output_type": "execute_result"
    }
   ],
   "source": [
    "'Arturas' + 'Titas' #be tarpo(Suklijuoja)\n",
    "'Arturas' + ' ' + 'Titas' #su tarpu\n"
   ]
  },
  {
   "cell_type": "markdown",
   "metadata": {},
   "source": [
    "### STRING OPERATIONS "
   ]
  },
  {
   "cell_type": "code",
   "execution_count": 18,
   "metadata": {},
   "outputs": [
    {
     "ename": "TypeError",
     "evalue": "unsupported operand type(s) for -: 'str' and 'str'",
     "output_type": "error",
     "traceback": [
      "\u001b[1;31m---------------------------------------------------------------------------\u001b[0m",
      "\u001b[1;31mTypeError\u001b[0m                                 Traceback (most recent call last)",
      "\u001b[1;32mc:\\Users\\User\\Desktop\\-20220830VCSPYTVAK-Python\\antros_pamokos_pasikartojimopasibandymai.ipynb Cell 9\u001b[0m in \u001b[0;36m<cell line: 1>\u001b[1;34m()\u001b[0m\n\u001b[1;32m----> <a href='vscode-notebook-cell:/c%3A/Users/User/Desktop/-20220830VCSPYTVAK-Python/antros_pamokos_pasikartojimopasibandymai.ipynb#W6sZmlsZQ%3D%3D?line=0'>1</a>\u001b[0m \u001b[39m'\u001b[39;49m\u001b[39mArturas\u001b[39;49m\u001b[39m'\u001b[39;49m \u001b[39m-\u001b[39;49m \u001b[39m'\u001b[39;49m\u001b[39ma\u001b[39;49m\u001b[39m'\u001b[39;49m\n",
      "\u001b[1;31mTypeError\u001b[0m: unsupported operand type(s) for -: 'str' and 'str'"
     ]
    }
   ],
   "source": [
    "'Arturas' - 'a'\n",
    "##raidziu neatimsi/nepadalinsi. DAUGINT GALIMA"
   ]
  },
  {
   "cell_type": "code",
   "execution_count": 16,
   "metadata": {},
   "outputs": [
    {
     "data": {
      "text/plain": [
       "'titas titas titas titas titas titas titas titas titas titas titas titas titas titas titas '"
      ]
     },
     "execution_count": 16,
     "metadata": {},
     "output_type": "execute_result"
    }
   ],
   "source": [
    "'titas ' * 15"
   ]
  },
  {
   "cell_type": "markdown",
   "metadata": {},
   "source": [
    "### F-STRING"
   ]
  },
  {
   "cell_type": "code",
   "execution_count": 27,
   "metadata": {},
   "outputs": [
    {
     "name": "stdout",
     "output_type": "stream",
     "text": [
      "Arturas Titas nice to meet u\n",
      "Arturas Titas, nice to meet you\n",
      "Arturas Titas 23, nice to meet u!\n"
     ]
    }
   ],
   "source": [
    "name = 'Arturas'\n",
    "surname = 'Titas'\n",
    "number = 23\n",
    "print(name+ ' '+surname + ' nice to meet u')\n",
    "print(f'{name} {surname}, nice to meet you')\n",
    "print( name+ ' ' + surname +' ' + str(number) + ', nice to meet u!')"
   ]
  },
  {
   "cell_type": "code",
   "execution_count": 50,
   "metadata": {},
   "outputs": [
    {
     "name": "stdout",
     "output_type": "stream",
     "text": [
      "Tytusatitkis\n"
     ]
    }
   ],
   "source": [
    "name = 'Tytusa'\n",
    "surname = 'titkis'\n",
    "print(name + '' +surname)\n",
    "\n"
   ]
  },
  {
   "cell_type": "code",
   "execution_count": 64,
   "metadata": {},
   "outputs": [
    {
     "name": "stdout",
     "output_type": "stream",
     "text": [
      "happy\n",
      "happy\n"
     ]
    }
   ],
   "source": [
    "text = 'Hello World, I am happy to learn Python!'\n",
    "look_word = 'happy'\n",
    "print(text[18:23])\n",
    "print(text[text.find('happy'):text.find('happy') + len('happy')])"
   ]
  },
  {
   "cell_type": "markdown",
   "metadata": {},
   "source": [
    "### INTEGER DEKLARACIJA"
   ]
  },
  {
   "cell_type": "code",
   "execution_count": 68,
   "metadata": {},
   "outputs": [],
   "source": [
    "number = 51684\n",
    "\n",
    "float_number = 1436.41\n",
    "float_number_2 = 1436.\n"
   ]
  },
  {
   "cell_type": "code",
   "execution_count": 69,
   "metadata": {},
   "outputs": [
    {
     "name": "stdout",
     "output_type": "stream",
     "text": [
      "<class 'int'>\n",
      "<class 'float'>\n",
      "<class 'float'>\n"
     ]
    }
   ],
   "source": [
    "print(type(number) )\n",
    "print(type(float_number) )\n",
    "print(type(float_number_2) )"
   ]
  },
  {
   "cell_type": "markdown",
   "metadata": {},
   "source": [
    "OPERATIONS\n"
   ]
  },
  {
   "cell_type": "code",
   "execution_count": 77,
   "metadata": {},
   "outputs": [
    {
     "name": "stdout",
     "output_type": "stream",
     "text": [
      "53120.41 yra <class 'float'>\n",
      "5\n",
      "50\n",
      "2.0\n",
      "2\n",
      "3\n",
      "1\n",
      "2\n",
      "2\n",
      "3\n",
      "4\n",
      "0\n"
     ]
    }
   ],
   "source": [
    "suma = number + float_number\n",
    "print(f'{suma} yra {type(suma)}')\n",
    "print(10 - 5)\n",
    "print(10 * 5)\n",
    "print(10 / 5)\n",
    "print(13 // 5) #sveika dalis\n",
    "print(17 // 5)\n",
    "\n",
    "#liekana\n",
    "print(16 % 5)\n",
    "print(17 % 5)\n",
    "print(17 % 5)\n",
    "print(18 % 5)\n",
    "print(19 % 5)\n",
    "print(20 % 5)\n",
    "\n",
    "\n",
    "\n"
   ]
  },
  {
   "cell_type": "code",
   "execution_count": 81,
   "metadata": {},
   "outputs": [
    {
     "name": "stdout",
     "output_type": "stream",
     "text": [
      "17.450000000000003\n",
      "-5.65\n",
      "68.14500000000001\n",
      "0.5108225108225108\n",
      "5.9\n"
     ]
    }
   ],
   "source": [
    "float_1 = 5.9\n",
    "float_2 = 11.55\n",
    "print(float_1 + float_2)\n",
    "print(float_1 - float_2)\n",
    "print(float_1 * float_2)\n",
    "print(float_1 / float_2)\n",
    "print(float_1 % float_2)"
   ]
  },
  {
   "cell_type": "code",
   "execution_count": 92,
   "metadata": {},
   "outputs": [
    {
     "name": "stdout",
     "output_type": "stream",
     "text": [
      "Atstumas iki saules yra 390.625 kartu didesnis nei atstumas iki menulio \n",
      "2560.0\n",
      "106.66666666666667\n",
      "3.5555555555555554\n",
      "0.2962962962962963\n"
     ]
    }
   ],
   "source": [
    "dist_sun = 150_000_000\n",
    "dist_moon = 384_000\n",
    "\n",
    "speed_per_hour = 150\n",
    "print(f'Atstumas iki saules yra {dist_sun / dist_moon} kartu didesnis nei atstumas iki menulio ')\n",
    "\n",
    "speed_per_hour = 150\n",
    "\n",
    "day = speed_per_hour * 24\n",
    "month = day * 30\n",
    "year = month * 12\n",
    "print(dist_moon/speed_per_hour)\n",
    "print(dist_moon/day)\n",
    "print(dist_moon/month)\n",
    "print(dist_moon/year)"
   ]
  },
  {
   "cell_type": "code",
   "execution_count": 103,
   "metadata": {},
   "outputs": [
    {
     "name": "stdout",
     "output_type": "stream",
     "text": [
      "10797 days, 15:09:25.720012\n",
      "10797\n"
     ]
    }
   ],
   "source": [
    "from datetime import datetime\n",
    "birthday = datetime(1993, 2, 11)\n",
    "now = datetime.now()\n",
    "time_passed = now - birthday\n",
    "print(time_passed)\n",
    "print(time_passed.days)"
   ]
  },
  {
   "cell_type": "markdown",
   "metadata": {},
   "source": [
    "BOOLEAN Deklaracija\n",
    "true/false"
   ]
  },
  {
   "cell_type": "code",
   "execution_count": 109,
   "metadata": {},
   "outputs": [
    {
     "name": "stdout",
     "output_type": "stream",
     "text": [
      "<class 'bool'>\n",
      "True\n",
      "True\n"
     ]
    }
   ],
   "source": [
    "bool_1 = True\n",
    "bool_2 = False\n",
    "print( type(bool_1))\n",
    "print(bool_1)\n",
    "number = 1\n",
    "print(bool(number))\n",
    "#Nulis yra netiesa\n",
    "#False tampa tik 0, visi kiti TRUE"
   ]
  },
  {
   "cell_type": "code",
   "execution_count": 113,
   "metadata": {},
   "outputs": [
    {
     "name": "stdout",
     "output_type": "stream",
     "text": [
      "False\n",
      "True\n"
     ]
    }
   ],
   "source": [
    "print(2>5)\n",
    "text = 'Hello Titas'\n",
    "bool_4 = 'Titas' in text\n",
    "print(bool_4)\n"
   ]
  },
  {
   "cell_type": "markdown",
   "metadata": {},
   "source": [
    "LISTS"
   ]
  },
  {
   "cell_type": "code",
   "execution_count": 115,
   "metadata": {},
   "outputs": [],
   "source": [
    "cities = [ 'Vilnius', 'Kaunas', 'Klaipeda']"
   ]
  },
  {
   "cell_type": "code",
   "execution_count": 118,
   "metadata": {},
   "outputs": [
    {
     "name": "stdout",
     "output_type": "stream",
     "text": [
      "Vilnius\n",
      "<class 'str'>\n",
      "Klaipeda\n",
      "['Vilnius', 'Kaunas']\n",
      "<class 'list'>\n"
     ]
    }
   ],
   "source": [
    "print( cities[0])\n",
    "print( type( cities[0] ) )\n",
    "print(cities[-1])\n",
    "print( cities [:2])\n",
    "print(type( cities[:2]))"
   ]
  },
  {
   "cell_type": "code",
   "execution_count": 124,
   "metadata": {},
   "outputs": [
    {
     "name": "stdout",
     "output_type": "stream",
     "text": [
      "<class 'int'>\n",
      "<class 'str'>\n",
      "[8546, 847, 358]\n"
     ]
    }
   ],
   "source": [
    "number = [ 1,8546,847,358,'vienas']\n",
    "print( type( number[0] ))\n",
    "print( type( number[-1] ))\n",
    "print( number[1:4] )\n"
   ]
  },
  {
   "cell_type": "code",
   "execution_count": 127,
   "metadata": {},
   "outputs": [
    {
     "name": "stdout",
     "output_type": "stream",
     "text": [
      "5\n",
      "6\n"
     ]
    }
   ],
   "source": [
    "print(len(number))\n",
    "print(len(number[-1]))"
   ]
  },
  {
   "cell_type": "code",
   "execution_count": 129,
   "metadata": {},
   "outputs": [
    {
     "name": "stdout",
     "output_type": "stream",
     "text": [
      "[1, 8546, 847, 358, 500]\n"
     ]
    }
   ],
   "source": [
    "number = [ 1,8546,847,358]\n",
    "number.append(500)\n",
    "print(number)"
   ]
  },
  {
   "cell_type": "code",
   "execution_count": 133,
   "metadata": {},
   "outputs": [],
   "source": [
    "number.count(10)\n",
    "number.insert(2, 1000)\n"
   ]
  },
  {
   "cell_type": "code",
   "execution_count": 146,
   "metadata": {},
   "outputs": [
    {
     "name": "stdout",
     "output_type": "stream",
     "text": [
      "[]\n"
     ]
    }
   ],
   "source": [
    "print(number)"
   ]
  },
  {
   "cell_type": "code",
   "execution_count": 148,
   "metadata": {},
   "outputs": [
    {
     "name": "stdout",
     "output_type": "stream",
     "text": [
      "[999, 999, [88, 888], 999, 999]\n",
      "[999, 999, [88, 888], 999, 999, [88, 888]]\n"
     ]
    }
   ],
   "source": [
    "number.extend([999, 999])\n",
    "print(number)\n",
    "number.append( [88, 888])\n",
    "print(number)"
   ]
  },
  {
   "cell_type": "code",
   "execution_count": 153,
   "metadata": {},
   "outputs": [
    {
     "name": "stdout",
     "output_type": "stream",
     "text": [
      "[354, [[[[['777']]], 789]]]\n",
      "[[[[['777']]], 789]]\n",
      "777\n"
     ]
    }
   ],
   "source": [
    "nested_list = [354, [[[[['777']]], 789]]]\n",
    "print(nested_list)\n",
    "print(nested_list[1])\n",
    "print(nested_list[1][0][0][0][0][0])"
   ]
  },
  {
   "cell_type": "code",
   "execution_count": 155,
   "metadata": {},
   "outputs": [
    {
     "name": "stdout",
     "output_type": "stream",
     "text": [
      "[999, 999, [88, 888], 999, 999, [88, 888]]\n",
      "[88, 888]\n"
     ]
    }
   ],
   "source": [
    "print(number)\n",
    "print(number.pop())"
   ]
  },
  {
   "cell_type": "code",
   "execution_count": 156,
   "metadata": {},
   "outputs": [
    {
     "name": "stdout",
     "output_type": "stream",
     "text": [
      "[999, 999, [88, 888], 999, 999]\n"
     ]
    }
   ],
   "source": [
    "print(number)"
   ]
  },
  {
   "cell_type": "code",
   "execution_count": 162,
   "metadata": {},
   "outputs": [
    {
     "name": "stdout",
     "output_type": "stream",
     "text": [
      "None\n",
      "[999, 999, [88, 888], 999, 999]\n"
     ]
    }
   ],
   "source": [
    "print(number.reverse())\n",
    "print(number)"
   ]
  },
  {
   "cell_type": "code",
   "execution_count": 169,
   "metadata": {},
   "outputs": [
    {
     "name": "stdout",
     "output_type": "stream",
     "text": [
      "[999, 999, [88, 888], 999, 999]\n"
     ]
    }
   ],
   "source": [
    "print(number[::-1])"
   ]
  },
  {
   "cell_type": "code",
   "execution_count": 172,
   "metadata": {},
   "outputs": [
    {
     "ename": "TypeError",
     "evalue": "'<' not supported between instances of 'list' and 'int'",
     "output_type": "error",
     "traceback": [
      "\u001b[1;31m---------------------------------------------------------------------------\u001b[0m",
      "\u001b[1;31mTypeError\u001b[0m                                 Traceback (most recent call last)",
      "\u001b[1;32mc:\\Users\\User\\Desktop\\-20220830VCSPYTVAK-Python\\antros_pamokos_pasikartojimopasibandymai.ipynb Cell 40\u001b[0m in \u001b[0;36m<cell line: 1>\u001b[1;34m()\u001b[0m\n\u001b[1;32m----> <a href='vscode-notebook-cell:/c%3A/Users/User/Desktop/-20220830VCSPYTVAK-Python/antros_pamokos_pasikartojimopasibandymai.ipynb#X63sZmlsZQ%3D%3D?line=0'>1</a>\u001b[0m number\u001b[39m.\u001b[39;49msort()\n",
      "\u001b[1;31mTypeError\u001b[0m: '<' not supported between instances of 'list' and 'int'"
     ]
    }
   ],
   "source": [
    "\n"
   ]
  },
  {
   "cell_type": "code",
   "execution_count": null,
   "metadata": {},
   "outputs": [],
   "source": []
  },
  {
   "cell_type": "code",
   "execution_count": null,
   "metadata": {},
   "outputs": [],
   "source": []
  }
 ],
 "metadata": {
  "kernelspec": {
   "display_name": "Python 3.10.6 64-bit",
   "language": "python",
   "name": "python3"
  },
  "language_info": {
   "codemirror_mode": {
    "name": "ipython",
    "version": 3
   },
   "file_extension": ".py",
   "mimetype": "text/x-python",
   "name": "python",
   "nbconvert_exporter": "python",
   "pygments_lexer": "ipython3",
   "version": "3.10.6"
  },
  "orig_nbformat": 4,
  "vscode": {
   "interpreter": {
    "hash": "afb734500600fd355917ca529030176ea0ca205570884b88f2f6f7d791fd3fbe"
   }
  }
 },
 "nbformat": 4,
 "nbformat_minor": 2
}
