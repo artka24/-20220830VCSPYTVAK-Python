{
 "cells": [
  {
   "cell_type": "code",
   "execution_count": 3,
   "metadata": {},
   "outputs": [],
   "source": [
    "text = \"Hellow world world\""
   ]
  },
  {
   "cell_type": "code",
   "execution_count": 16,
   "metadata": {},
   "outputs": [
    {
     "name": "stdout",
     "output_type": "stream",
     "text": [
      "False\n",
      "True\n",
      "False\n",
      "True\n"
     ]
    }
   ],
   "source": [
    "#ISDIGIT-Ar tekstas yra skaiciai(esant tarpams prie skaiciu-ats FLASE)\n",
    "print(text.isdigit() )\n",
    "print ('1993'.isdigit() )\n",
    "print ('1993 '.isdigit() )\n",
    "print('1993 '.strip().isdigit() )"
   ]
  },
  {
   "cell_type": "code",
   "execution_count": 20,
   "metadata": {},
   "outputs": [
    {
     "name": "stdout",
     "output_type": "stream",
     "text": [
      "    Hellow world world    \n",
      "Hellow world world\n"
     ]
    }
   ],
   "source": [
    "#STRIP-Pasalina tarpus is sonu#\n",
    "text = \"    Hellow world world    \"\n",
    "print(text)\n",
    "print(text.strip())"
   ]
  },
  {
   "cell_type": "code",
   "execution_count": 22,
   "metadata": {},
   "outputs": [
    {
     "name": "stdout",
     "output_type": "stream",
     "text": [
      "Hello\\world\n",
      "World   \n"
     ]
    }
   ],
   "source": [
    "# \\n  Nauja eilute\n",
    "text = 'Hello\\world\\nWorld   '\n",
    "print(text)"
   ]
  },
  {
   "cell_type": "code",
   "execution_count": 47,
   "metadata": {},
   "outputs": [
    {
     "name": "stdout",
     "output_type": "stream",
     "text": [
      "MY NAME IS ARTURAS, I LIVE IN VILNIUS VILNIUS\n",
      "my name is arturas, i live in vilnius vilnius\n",
      "My name is arturas, i live in vilnius vilnius\n",
      "1\n",
      "2\n",
      "11\n",
      "My name is \n",
      "My name is Arturas\n"
     ]
    }
   ],
   "source": [
    "text_2 = 'My name is Arturas, I live in Vilnius vilnius'\n",
    "print(text_2.upper())\n",
    "print(text_2.lower())\n",
    "print(text_2.capitalize())\n",
    "print(text_2.count('Vilnius'))\n",
    "print(text_2.lower().count('vilnius'))\n",
    "print(text_2.find('Arturas'))\n",
    "print(text_2[0:text_2.find('Arturas')])\n",
    "print(text_2[0:text_2.find('Arturas')+len('Arutras')])"
   ]
  },
  {
   "cell_type": "code",
   "execution_count": null,
   "metadata": {},
   "outputs": [],
   "source": []
  },
  {
   "cell_type": "code",
   "execution_count": null,
   "metadata": {},
   "outputs": [],
   "source": []
  }
 ],
 "metadata": {
  "kernelspec": {
   "display_name": "Python 3.10.6 64-bit",
   "language": "python",
   "name": "python3"
  },
  "language_info": {
   "codemirror_mode": {
    "name": "ipython",
    "version": 3
   },
   "file_extension": ".py",
   "mimetype": "text/x-python",
   "name": "python",
   "nbconvert_exporter": "python",
   "pygments_lexer": "ipython3",
   "version": "3.10.6"
  },
  "orig_nbformat": 4,
  "vscode": {
   "interpreter": {
    "hash": "afb734500600fd355917ca529030176ea0ca205570884b88f2f6f7d791fd3fbe"
   }
  }
 },
 "nbformat": 4,
 "nbformat_minor": 2
}
