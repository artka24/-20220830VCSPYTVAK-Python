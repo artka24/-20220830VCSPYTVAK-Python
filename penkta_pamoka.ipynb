{
 "cells": [
  {
   "cell_type": "markdown",
   "metadata": {},
   "source": [
    "FUNCTIONS"
   ]
  },
  {
   "cell_type": "code",
   "execution_count": 1,
   "metadata": {},
   "outputs": [],
   "source": [
    "def print_hello():\n",
    "    print('Hello world')"
   ]
  },
  {
   "cell_type": "code",
   "execution_count": 2,
   "metadata": {},
   "outputs": [
    {
     "name": "stdout",
     "output_type": "stream",
     "text": [
      "Hello world\n"
     ]
    }
   ],
   "source": [
    "print_hello()"
   ]
  },
  {
   "cell_type": "code",
   "execution_count": 6,
   "metadata": {},
   "outputs": [
    {
     "name": "stdout",
     "output_type": "stream",
     "text": [
      "Hello Arturas!\n",
      "Hello Jonas!\n"
     ]
    }
   ],
   "source": [
    "def hello_to(name):\n",
    "    print(f'Hello {name}!')\n",
    "\n",
    "hello_to('Arturas')\n",
    "hello_to(name='Jonas')"
   ]
  },
  {
   "cell_type": "code",
   "execution_count": 12,
   "metadata": {},
   "outputs": [],
   "source": [
    "def substract_numbers(num_1, num_2):\n",
    "    result = num_1 - num_2\n",
    "    print(result)"
   ]
  },
  {
   "cell_type": "code",
   "execution_count": 13,
   "metadata": {},
   "outputs": [
    {
     "name": "stdout",
     "output_type": "stream",
     "text": [
      "2\n",
      "-76\n",
      "None\n",
      "None\n"
     ]
    }
   ],
   "source": [
    "ats = substract_numbers(5,3)\n",
    "ats_2 =substract_numbers(10,86)\n",
    "print(ats)\n",
    "print(ats_2)\n"
   ]
  },
  {
   "cell_type": "code",
   "execution_count": 18,
   "metadata": {},
   "outputs": [],
   "source": [
    "def substract_numbers(num_1, num_2):\n",
    "    result = num_1 - num_2\n",
    "    return result"
   ]
  },
  {
   "cell_type": "code",
   "execution_count": 19,
   "metadata": {},
   "outputs": [
    {
     "name": "stdout",
     "output_type": "stream",
     "text": [
      "ats: 2\n",
      "ats_2: -76\n",
      "2\n"
     ]
    }
   ],
   "source": [
    "ats = substract_numbers(5,3)\n",
    "ats_2 =substract_numbers(10,86)\n",
    "print(f'ats: {ats}')\n",
    "print(f'ats_2: {ats_2}')\n",
    "print(substract_numbers(5,3))"
   ]
  },
  {
   "cell_type": "code",
   "execution_count": 20,
   "metadata": {},
   "outputs": [
    {
     "name": "stdout",
     "output_type": "stream",
     "text": [
      "2\n",
      "-2\n"
     ]
    }
   ],
   "source": [
    "print(substract_numbers(5,3))\n",
    "print(substract_numbers(num_2=5, num_1=3))"
   ]
  },
  {
   "cell_type": "code",
   "execution_count": 26,
   "metadata": {},
   "outputs": [
    {
     "name": "stdout",
     "output_type": "stream",
     "text": [
      "8\n",
      "3\n"
     ]
    }
   ],
   "source": [
    "def substract_numbers_2(num_1, num_2=5):\n",
    "    result = num_1 - num_2\n",
    "    return result\n",
    "\n",
    "print(substract_numbers_2(13))\n",
    "print(substract_numbers_2(13, 10))"
   ]
  },
  {
   "cell_type": "code",
   "execution_count": 27,
   "metadata": {},
   "outputs": [
    {
     "ename": "NameError",
     "evalue": "name 'add_numbers' is not defined",
     "output_type": "error",
     "traceback": [
      "\u001b[1;31m---------------------------------------------------------------------------\u001b[0m",
      "\u001b[1;31mNameError\u001b[0m                                 Traceback (most recent call last)",
      "\u001b[1;32mc:\\Users\\User\\Desktop\\-20220830VCSPYTVAK-Python\\penkta_pamoka.ipynb Cell 11\u001b[0m in \u001b[0;36m<cell line: 1>\u001b[1;34m()\u001b[0m\n\u001b[1;32m----> <a href='vscode-notebook-cell:/c%3A/Users/User/Desktop/-20220830VCSPYTVAK-Python/penkta_pamoka.ipynb#X22sZmlsZQ%3D%3D?line=0'>1</a>\u001b[0m add_numbers(\u001b[39m5\u001b[39m,\u001b[39m105\u001b[39m,\u001b[39m54\u001b[39m,\u001b[39m684\u001b[39m,\u001b[39m46\u001b[39m)\n",
      "\u001b[1;31mNameError\u001b[0m: name 'add_numbers' is not defined"
     ]
    }
   ],
   "source": [
    "add_numbers(5,105,54,684,46)"
   ]
  },
  {
   "cell_type": "code",
   "execution_count": 28,
   "metadata": {},
   "outputs": [],
   "source": [
    "def product_of_numbers( *args ):\n",
    "    for num in args:\n",
    "        print(num)"
   ]
  },
  {
   "cell_type": "code",
   "execution_count": 31,
   "metadata": {},
   "outputs": [
    {
     "name": "stdout",
     "output_type": "stream",
     "text": [
      "1\n",
      "5\n",
      "7\n",
      "486\n",
      "48641\n",
      "88479\n",
      "3\n"
     ]
    }
   ],
   "source": [
    "product_of_numbers(1,5,7,486,48641,88479,3)"
   ]
  },
  {
   "cell_type": "code",
   "execution_count": 32,
   "metadata": {},
   "outputs": [
    {
     "name": "stdout",
     "output_type": "stream",
     "text": [
      "24\n"
     ]
    }
   ],
   "source": [
    "def product_of_numbers( *args ):\n",
    "    result = 1\n",
    "    for num in args:\n",
    "        result *= num\n",
    "    \n",
    "    return result\n",
    "ats = product_of_numbers(1,2,3,4)\n",
    "print(ats)"
   ]
  },
  {
   "cell_type": "code",
   "execution_count": 36,
   "metadata": {},
   "outputs": [],
   "source": [
    "def kwargs_f( **kwargs ):\n",
    "    for k,v in kwargs.items():\n",
    "        print(f'key {k} has a value of {v}')\n"
   ]
  },
  {
   "cell_type": "code",
   "execution_count": 38,
   "metadata": {},
   "outputs": [
    {
     "name": "stdout",
     "output_type": "stream",
     "text": [
      "key name has a value of arturas\n",
      "key age has a value of 29\n",
      "key number has a value of 3651\n"
     ]
    }
   ],
   "source": [
    "kwargs_f(name=\"arturas\", age=29, number = 3651)"
   ]
  },
  {
   "cell_type": "code",
   "execution_count": 41,
   "metadata": {},
   "outputs": [],
   "source": [
    "def say_hello_3(name, surname, text='Have a nice day!', **kwargs):\n",
    "    print(f'Hello {name} {surname}. {text}')"
   ]
  },
  {
   "cell_type": "code",
   "execution_count": 43,
   "metadata": {},
   "outputs": [
    {
     "name": "stdout",
     "output_type": "stream",
     "text": [
      "Hello Jonas Jonaitis. Have a nice day!\n"
     ]
    }
   ],
   "source": [
    "say_hello_3('Jonas' , 'Jonaitis')\n"
   ]
  },
  {
   "cell_type": "code",
   "execution_count": 44,
   "metadata": {},
   "outputs": [],
   "source": [
    "def say_hello(name):\n",
    "    print(f'Hello {name}')"
   ]
  },
  {
   "cell_type": "code",
   "execution_count": 45,
   "metadata": {},
   "outputs": [
    {
     "data": {
      "text/plain": [
       "<function __main__.say_hello(name)>"
      ]
     },
     "execution_count": 45,
     "metadata": {},
     "output_type": "execute_result"
    }
   ],
   "source": [
    "say_hello"
   ]
  },
  {
   "cell_type": "code",
   "execution_count": 46,
   "metadata": {},
   "outputs": [
    {
     "ename": "TypeError",
     "evalue": "say_hello() missing 1 required positional argument: 'name'",
     "output_type": "error",
     "traceback": [
      "\u001b[1;31m---------------------------------------------------------------------------\u001b[0m",
      "\u001b[1;31mTypeError\u001b[0m                                 Traceback (most recent call last)",
      "\u001b[1;32mc:\\Users\\User\\Desktop\\-20220830VCSPYTVAK-Python\\penkta_pamoka.ipynb Cell 21\u001b[0m in \u001b[0;36m<cell line: 2>\u001b[1;34m()\u001b[0m\n\u001b[0;32m      <a href='vscode-notebook-cell:/c%3A/Users/User/Desktop/-20220830VCSPYTVAK-Python/penkta_pamoka.ipynb#X36sZmlsZQ%3D%3D?line=0'>1</a>\u001b[0m my_say_hello \u001b[39m=\u001b[39m say_hello\n\u001b[1;32m----> <a href='vscode-notebook-cell:/c%3A/Users/User/Desktop/-20220830VCSPYTVAK-Python/penkta_pamoka.ipynb#X36sZmlsZQ%3D%3D?line=1'>2</a>\u001b[0m my_say_hello()\n",
      "\u001b[1;31mTypeError\u001b[0m: say_hello() missing 1 required positional argument: 'name'"
     ]
    }
   ],
   "source": [
    "my_say_hello = say_hello\n",
    "my_say_hello()"
   ]
  },
  {
   "cell_type": "code",
   "execution_count": 52,
   "metadata": {},
   "outputs": [
    {
     "name": "stdout",
     "output_type": "stream",
     "text": [
      "12\n",
      "2.0\n"
     ]
    }
   ],
   "source": [
    "def first_funk (num_1, num_2):\n",
    "    if (num_1 + num_2 ) %2 == 0:\n",
    "        result = num_1 * num_2\n",
    "    else:\n",
    "        result = num_1 / num_2\n",
    "    return result\n",
    "\n",
    "print(first_funk(2,6))\n",
    "print(first_funk(10,5))\n",
    "\n",
    "\n"
   ]
  },
  {
   "cell_type": "code",
   "execution_count": 54,
   "metadata": {},
   "outputs": [],
   "source": [
    "def say_hello(name):\n",
    "    if isinstance(name, str):\n",
    "        print(f'Hello {name}')\n",
    "    else:\n",
    "        print('Provided argument value is not a str')"
   ]
  },
  {
   "cell_type": "code",
   "execution_count": null,
   "metadata": {},
   "outputs": [],
   "source": [
    "def dalinas(*args ):\n",
    "    for num in args:\n",
    "        for x in rage(1,1):\n",
    "my_dict = {}"
   ]
  },
  {
   "cell_type": "code",
   "execution_count": 59,
   "metadata": {},
   "outputs": [],
   "source": [
    "def mano_funkcija(*args):\n",
    "    result_dict ={}\n",
    "    for num in rane(1,11):\n",
    "        result_dict[ num ] = 0\n",
    "        print(result)\n",
    "        for arg in args:\n",
    "            if arg % num == 0:\n",
    "                result_dict[ num ]= result_dict[num] + 1\n",
    "    \n",
    "    return result_dict\n",
    "\n"
   ]
  },
  {
   "cell_type": "code",
   "execution_count": 60,
   "metadata": {},
   "outputs": [
    {
     "ename": "NameError",
     "evalue": "name 'rane' is not defined",
     "output_type": "error",
     "traceback": [
      "\u001b[1;31m---------------------------------------------------------------------------\u001b[0m",
      "\u001b[1;31mNameError\u001b[0m                                 Traceback (most recent call last)",
      "\u001b[1;32mc:\\Users\\User\\Desktop\\-20220830VCSPYTVAK-Python\\penkta_pamoka.ipynb Cell 26\u001b[0m in \u001b[0;36m<cell line: 1>\u001b[1;34m()\u001b[0m\n\u001b[1;32m----> <a href='vscode-notebook-cell:/c%3A/Users/User/Desktop/-20220830VCSPYTVAK-Python/penkta_pamoka.ipynb#X46sZmlsZQ%3D%3D?line=0'>1</a>\u001b[0m mano_funkcija(\u001b[39m1\u001b[39;49m,\u001b[39m2\u001b[39;49m,\u001b[39m65\u001b[39;49m,\u001b[39m30\u001b[39;49m)\n",
      "\u001b[1;32mc:\\Users\\User\\Desktop\\-20220830VCSPYTVAK-Python\\penkta_pamoka.ipynb Cell 26\u001b[0m in \u001b[0;36mmano_funkcija\u001b[1;34m(*args)\u001b[0m\n\u001b[0;32m      <a href='vscode-notebook-cell:/c%3A/Users/User/Desktop/-20220830VCSPYTVAK-Python/penkta_pamoka.ipynb#X46sZmlsZQ%3D%3D?line=0'>1</a>\u001b[0m \u001b[39mdef\u001b[39;00m \u001b[39mmano_funkcija\u001b[39m(\u001b[39m*\u001b[39margs):\n\u001b[0;32m      <a href='vscode-notebook-cell:/c%3A/Users/User/Desktop/-20220830VCSPYTVAK-Python/penkta_pamoka.ipynb#X46sZmlsZQ%3D%3D?line=1'>2</a>\u001b[0m     result_dict \u001b[39m=\u001b[39m{}\n\u001b[1;32m----> <a href='vscode-notebook-cell:/c%3A/Users/User/Desktop/-20220830VCSPYTVAK-Python/penkta_pamoka.ipynb#X46sZmlsZQ%3D%3D?line=2'>3</a>\u001b[0m     \u001b[39mfor\u001b[39;00m num \u001b[39min\u001b[39;00m rane(\u001b[39m1\u001b[39m,\u001b[39m11\u001b[39m):\n\u001b[0;32m      <a href='vscode-notebook-cell:/c%3A/Users/User/Desktop/-20220830VCSPYTVAK-Python/penkta_pamoka.ipynb#X46sZmlsZQ%3D%3D?line=3'>4</a>\u001b[0m         result_dict[ num ] \u001b[39m=\u001b[39m \u001b[39m0\u001b[39m\n\u001b[0;32m      <a href='vscode-notebook-cell:/c%3A/Users/User/Desktop/-20220830VCSPYTVAK-Python/penkta_pamoka.ipynb#X46sZmlsZQ%3D%3D?line=4'>5</a>\u001b[0m         \u001b[39mfor\u001b[39;00m arg \u001b[39min\u001b[39;00m args:\n",
      "\u001b[1;31mNameError\u001b[0m: name 'rane' is not defined"
     ]
    }
   ],
   "source": [
    "mano_funkcija(1,2,65,30)"
   ]
  },
  {
   "cell_type": "markdown",
   "metadata": {},
   "source": [
    "LAMBDA"
   ]
  },
  {
   "cell_type": "code",
   "execution_count": 68,
   "metadata": {},
   "outputs": [],
   "source": [
    "words=['as','mes','namas','kompiuteri','labaiilgaszodis', 'stalas']"
   ]
  },
  {
   "cell_type": "code",
   "execution_count": 69,
   "metadata": {},
   "outputs": [
    {
     "data": {
      "text/plain": [
       "['as', 'kompiuteri', 'labaiilgaszodis', 'mes', 'namas', 'stalas']"
      ]
     },
     "execution_count": 69,
     "metadata": {},
     "output_type": "execute_result"
    }
   ],
   "source": [
    "sorted(words)"
   ]
  },
  {
   "cell_type": "code",
   "execution_count": 70,
   "metadata": {},
   "outputs": [
    {
     "data": {
      "text/plain": [
       "['as', 'mes', 'namas', 'stalas', 'kompiuteri', 'labaiilgaszodis']"
      ]
     },
     "execution_count": 70,
     "metadata": {},
     "output_type": "execute_result"
    }
   ],
   "source": [
    "sorted(words, key=lambda x: len(x))"
   ]
  },
  {
   "cell_type": "code",
   "execution_count": 71,
   "metadata": {},
   "outputs": [
    {
     "data": {
      "text/plain": [
       "['mes', 'kompiuteri', 'as', 'namas', 'stalas', 'labaiilgaszodis']"
      ]
     },
     "execution_count": 71,
     "metadata": {},
     "output_type": "execute_result"
    }
   ],
   "source": [
    "sorted(words, key=lambda x: x.count('a'))"
   ]
  },
  {
   "cell_type": "code",
   "execution_count": 72,
   "metadata": {},
   "outputs": [
    {
     "data": {
      "text/plain": [
       "['as', 'kompiuteri', 'labaiilgaszodis', 'mes', 'namas', 'stalas']"
      ]
     },
     "execution_count": 72,
     "metadata": {},
     "output_type": "execute_result"
    }
   ],
   "source": [
    "sorted(words, key=lambda x: x[0])"
   ]
  },
  {
   "cell_type": "code",
   "execution_count": 73,
   "metadata": {},
   "outputs": [
    {
     "data": {
      "text/plain": [
       "['as', 'namas', 'labaiilgaszodis', 'stalas']"
      ]
     },
     "execution_count": 73,
     "metadata": {},
     "output_type": "execute_result"
    }
   ],
   "source": [
    "list(filter(lambda x: 'a' in x , words ))\n"
   ]
  },
  {
   "cell_type": "code",
   "execution_count": null,
   "metadata": {},
   "outputs": [],
   "source": []
  },
  {
   "cell_type": "markdown",
   "metadata": {},
   "source": [
    "WHILE LOOP"
   ]
  },
  {
   "cell_type": "code",
   "execution_count": 74,
   "metadata": {},
   "outputs": [
    {
     "name": "stdout",
     "output_type": "stream",
     "text": [
      "0\n",
      "1\n",
      "1\n",
      "1\n",
      "1\n",
      "1\n",
      "1\n",
      "1\n",
      "2\n",
      "2\n",
      "2\n",
      "2\n",
      "3\n",
      "3\n",
      "4\n"
     ]
    }
   ],
   "source": [
    "import random\n",
    "x = 0\n",
    "while x < 5:\n",
    "    print(x)\n",
    "    if random.random() < 0.4:\n",
    "        x += 1\n",
    "\n"
   ]
  },
  {
   "cell_type": "code",
   "execution_count": null,
   "metadata": {},
   "outputs": [],
   "source": [
    "while True:\n",
    "    print('hello')"
   ]
  },
  {
   "cell_type": "code",
   "execution_count": 78,
   "metadata": {},
   "outputs": [
    {
     "name": "stdout",
     "output_type": "stream",
     "text": [
      "your inputasd is not number or between 1 to 10\n",
      "your input11 is not number or between 1 to 10\n",
      "The number u entered is 5\n"
     ]
    }
   ],
   "source": [
    "human_input = None\n",
    "\n",
    "while human_input is None:\n",
    "    input_1 = input('enter a number from 1 to 10')\n",
    "    if input_1.isdigit() and 1 <= int(input_1) <= 10:\n",
    "        human_input = int(input_1)\n",
    "    else:\n",
    "        print(f'your input{input_1} is not number or between 1 to 10')\n",
    "\n",
    "print(f'The number u entered is {human_input}')\n",
    "\n"
   ]
  },
  {
   "cell_type": "code",
   "execution_count": 84,
   "metadata": {},
   "outputs": [
    {
     "ename": "SyntaxError",
     "evalue": "duplicate argument 'list_1' in function definition (1477029535.py, line 1)",
     "output_type": "error",
     "traceback": [
      "\u001b[1;36m  Input \u001b[1;32mIn [84]\u001b[1;36m\u001b[0m\n\u001b[1;33m    def func_exercise  (list_1, list_1):\u001b[0m\n\u001b[1;37m                                ^\u001b[0m\n\u001b[1;31mSyntaxError\u001b[0m\u001b[1;31m:\u001b[0m duplicate argument 'list_1' in function definition\n"
     ]
    }
   ],
   "source": [
    "def func_exercise  (list_1, list_2):\n",
    "    list_1 = list(filter(lambda x: x<10, list_1))\n",
    "    print(list_)\n",
    "    a_1 = sum(list_1)\n",
    "    list_2 = list(filter(lambda x: x<10, list_2))\n",
    "    print(list_2)\n",
    "    a_1 = sum(list_2)\n"
   ]
  },
  {
   "cell_type": "code",
   "execution_count": 102,
   "metadata": {},
   "outputs": [],
   "source": [
    "def neighbors(list_1):\n",
    "    for i in range(0, len(list_1) -1):\n",
    "        print(f'{i} : {list_1[i]}')\n",
    "        print(f'i +1 - {list_1[i +1]}')"
   ]
  },
  {
   "cell_type": "code",
   "execution_count": 103,
   "metadata": {},
   "outputs": [
    {
     "name": "stdout",
     "output_type": "stream",
     "text": [
      "0 : 17\n",
      "i +1 - 18\n",
      "1 : 18\n",
      "i +1 - 19\n",
      "2 : 19\n",
      "i +1 - 21\n"
     ]
    }
   ],
   "source": [
    "neighbors([17,18,19,21])"
   ]
  }
 ],
 "metadata": {
  "kernelspec": {
   "display_name": "Python 3.10.6 64-bit",
   "language": "python",
   "name": "python3"
  },
  "language_info": {
   "codemirror_mode": {
    "name": "ipython",
    "version": 3
   },
   "file_extension": ".py",
   "mimetype": "text/x-python",
   "name": "python",
   "nbconvert_exporter": "python",
   "pygments_lexer": "ipython3",
   "version": "3.10.6"
  },
  "orig_nbformat": 4,
  "vscode": {
   "interpreter": {
    "hash": "afb734500600fd355917ca529030176ea0ca205570884b88f2f6f7d791fd3fbe"
   }
  }
 },
 "nbformat": 4,
 "nbformat_minor": 2
}
