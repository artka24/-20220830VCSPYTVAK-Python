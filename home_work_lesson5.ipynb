{
 "cells": [
  {
   "cell_type": "markdown",
   "metadata": {},
   "source": [
    "/1. Rasti pasikartojančius elementus tarp dviejų list'ų\n",
    "a = [1,2,3,4,5,6,7,8,9,15]\n",
    "b = [3,8,9,11,15]\n",
    "Gauti rezultatą c = [3,8,9,15] nes šie skaičiai pasikartoja abiejuose listuose"
   ]
  },
  {
   "cell_type": "code",
   "execution_count": 34,
   "metadata": {},
   "outputs": [
    {
     "name": "stdout",
     "output_type": "stream",
     "text": [
      "[3, 8, 9, 15]\n"
     ]
    }
   ],
   "source": [
    "#1.TASK\n",
    "my_list1 = [1,2,3,4,5,6,7,8,9,15]\n",
    "my_list2 = [3,8,9,11,15]\n",
    "same_values = set(my_list1) & set(my_list2)\n",
    "print(sorted(same_values))\n"
   ]
  },
  {
   "cell_type": "markdown",
   "metadata": {},
   "source": [
    "/2. Išfiltruoti unikalius teigiamus numeris iš sąrašo\n",
    "x = [1, 5, 1, 2, 8, -9, 10, 1, -8, -900, 14, 5, -8, 2, 1, -20, 900, 800, -6, -8, 12, 1]"
   ]
  },
  {
   "cell_type": "code",
   "execution_count": 39,
   "metadata": {},
   "outputs": [
    {
     "name": "stdout",
     "output_type": "stream",
     "text": [
      "Teigiami numeriai list'e:  [1, 5, 1, 2, 8, 10, 1, 14, 5, 2, 1, 900, 800, 12, 1]\n"
     ]
    }
   ],
   "source": [
    "#2. TASK\n",
    "x = [1, 5, 1, 2, 8, -9, 10, 1, -8, -900, 14, 5, -8, 2, 1, -20, 900, 800, -6, -8, 12, 1]\n",
    "teigiami_numeriai = [n for n in x if n> 0]\n",
    "print('Teigiami numeriai list\\'e: ',teigiami_numeriai)\n"
   ]
  },
  {
   "cell_type": "code",
   "execution_count": 37,
   "metadata": {},
   "outputs": [
    {
     "name": "stdout",
     "output_type": "stream",
     "text": [
      "[1, 5, 1, 2, 8, 10, 1, 14, 5, 2, 1, 900, 800, 12, 1] - sitie skaiciai yra teigiami!\n"
     ]
    }
   ],
   "source": [
    "#2. TASK (LAMBDA)\n",
    "a = [1, 5, 1, 2, 8, -9, 10, 1, -8, -900, 14, 5, -8, 2, 1, -20, 900, 800, -6, -8, 12, 1]\n",
    "\n",
    "teigiami_skaiciai = list(filter(lambda a: (a >= 0), a ))\n",
    "print(f'{teigiami_skaiciai} - sitie skaiciai yra teigiami!')"
   ]
  },
  {
   "cell_type": "markdown",
   "metadata": {},
   "source": [
    "/3. Paskaičiuoti pelną pardavus visas prekes. Informacija apie kainą ir kiekius yra pateikiama kaip dictionary, atsakymą suapvalinti iki 2 skaičių po kablelio.\n",
    "x = { \"cost_price\": 32.67,\n",
    "         \"sell_price\": 45.00,      \n",
    "          \"inventory\": 1212  }"
   ]
  },
  {
   "cell_type": "code",
   "execution_count": 76,
   "metadata": {},
   "outputs": [
    {
     "name": "stdout",
     "output_type": "stream",
     "text": [
      "45.0\n",
      "{'cost_price': 32.67, 'sell_price': 45.0, 'inventory': 1212}\n",
      "{'cost_price': 32.67, 'sell_price': 45.0, 'inventory': 1212}\n",
      "{'cost_price': 32.67, 'sell_price': 45.0, 'inventory': 1212}\n"
     ]
    }
   ],
   "source": [
    "#3. TASK\n",
    "x = { \"cost_price\": 32.67,\n",
    "         \"sell_price\": 45.00,      \n",
    "          \"inventory\": 1212\n",
    "}\n",
    "print(x[\"sell_price\"])\n",
    "for key in x :\n",
    "    print(x)"
   ]
  }
 ],
 "metadata": {
  "kernelspec": {
   "display_name": "Python 3.10.6 64-bit",
   "language": "python",
   "name": "python3"
  },
  "language_info": {
   "codemirror_mode": {
    "name": "ipython",
    "version": 3
   },
   "file_extension": ".py",
   "mimetype": "text/x-python",
   "name": "python",
   "nbconvert_exporter": "python",
   "pygments_lexer": "ipython3",
   "version": "3.10.6"
  },
  "orig_nbformat": 4,
  "vscode": {
   "interpreter": {
    "hash": "afb734500600fd355917ca529030176ea0ca205570884b88f2f6f7d791fd3fbe"
   }
  }
 },
 "nbformat": 4,
 "nbformat_minor": 2
}
