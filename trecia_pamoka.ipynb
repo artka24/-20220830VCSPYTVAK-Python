{
 "cells": [
  {
   "cell_type": "markdown",
   "metadata": {},
   "source": [
    "mutable and immutable variables"
   ]
  },
  {
   "cell_type": "code",
   "execution_count": 5,
   "metadata": {},
   "outputs": [
    {
     "name": "stdout",
     "output_type": "stream",
     "text": [
      "pries\n",
      "2432222363888\n",
      "2432222363888\n",
      "po\n",
      "2432222363888\n",
      "2432222364048\n",
      "1\n",
      "6\n"
     ]
    }
   ],
   "source": [
    "# immutable kaip vaeikia variable\n",
    "a = 1\n",
    "b = a \n",
    "print('pries')\n",
    "print(id(a) )\n",
    "print(id(b) )\n",
    "b += 5\n",
    "print ('po')\n",
    "print(id(a) )\n",
    "print(id(b) )\n",
    "print(a)\n",
    "print(b)"
   ]
  },
  {
   "cell_type": "code",
   "execution_count": 7,
   "metadata": {},
   "outputs": [
    {
     "name": "stdout",
     "output_type": "stream",
     "text": [
      "pries\n",
      "2432337684800\n",
      "2432337684800\n",
      "po\n",
      "2432337684800\n",
      "2432337684800\n",
      "[1, 2, 3, 10]\n",
      "[1, 2, 3, 10]\n"
     ]
    }
   ],
   "source": [
    "# iutable kaip vaeikia variable\n",
    "a = [1,2,3]\n",
    "b = a \n",
    "print('pries')\n",
    "print(id(a) )\n",
    "print(id(b) )\n",
    "b.append(10)\n",
    "print ('po')\n",
    "print(id(a) )\n",
    "print(id(b) )\n",
    "print(a)\n",
    "print(b)\n"
   ]
  },
  {
   "cell_type": "code",
   "execution_count": 8,
   "metadata": {},
   "outputs": [
    {
     "name": "stdout",
     "output_type": "stream",
     "text": [
      "pries\n",
      "2432337694592\n",
      "2432337764096\n",
      "po\n",
      "2432337694592\n",
      "2432337764096\n",
      "[1, 2, 3]\n",
      "[1, 2, 3, 10]\n"
     ]
    }
   ],
   "source": [
    "#fixing mutable variable #1\n",
    "a = [1,2,3]\n",
    "b = a.copy()\n",
    "print('pries')\n",
    "print(id(a) )\n",
    "print(id(b) )\n",
    "b.append(10)\n",
    "print ('po')\n",
    "print(id(a) )\n",
    "print(id(b) )\n",
    "print(a)\n",
    "print(b)"
   ]
  },
  {
   "cell_type": "code",
   "execution_count": 11,
   "metadata": {},
   "outputs": [
    {
     "name": "stdout",
     "output_type": "stream",
     "text": [
      "pries\n",
      "2432337336704\n",
      "2432337337216\n",
      "po\n",
      "2432337336704\n",
      "2432337337216\n",
      "[1, 2, ['a', 'b', 'c']]\n",
      "[1, 2, ['a', 'b', 'c']]\n"
     ]
    }
   ],
   "source": [
    "#where fix #1 does not work\n",
    "a = [1,2, ['a', 'b' ]]\n",
    "b = a.copy()\n",
    "print('pries')\n",
    "print(id(a) )\n",
    "print(id(b) )\n",
    "b[-1].append('c')\n",
    "print ('po')\n",
    "print(id(a) )\n",
    "print(id(b) )\n",
    "print(a)\n",
    "print(b)"
   ]
  },
  {
   "cell_type": "code",
   "execution_count": 12,
   "metadata": {},
   "outputs": [
    {
     "name": "stdout",
     "output_type": "stream",
     "text": [
      "pries\n",
      "2432336806656\n",
      "2432337342720\n",
      "po\n",
      "2432336806656\n",
      "2432337342720\n",
      "[1, 2, ['a', 'b']]\n",
      "[1, 2, ['a', 'b', 'c']]\n"
     ]
    }
   ],
   "source": [
    "#fixing butable variable #2\n",
    "import copy \n",
    "a = [1,2, ['a', 'b' ]]\n",
    "b = copy.deepcopy(a)\n",
    "print('pries')\n",
    "print(id(a) )\n",
    "print(id(b) )\n",
    "b[-1].append('c')\n",
    "print ('po')\n",
    "print(id(a) )\n",
    "print(id(b) )\n",
    "print(a)\n",
    "print(b)"
   ]
  },
  {
   "cell_type": "markdown",
   "metadata": {},
   "source": [
    "# TUPLE DEKLARACIJA"
   ]
  },
  {
   "cell_type": "code",
   "execution_count": 14,
   "metadata": {},
   "outputs": [
    {
     "name": "stdout",
     "output_type": "stream",
     "text": [
      "<class 'tuple'>\n"
     ]
    }
   ],
   "source": [
    "my_tuple = ( 1,3,5)\n",
    "print(type(my_tuple))"
   ]
  },
  {
   "cell_type": "code",
   "execution_count": 17,
   "metadata": {},
   "outputs": [
    {
     "name": "stdout",
     "output_type": "stream",
     "text": [
      "(1, 3, 5, 10, 15)\n",
      "(1, 3, 5)\n",
      "(1, 3, 5, 10, 15)\n"
     ]
    }
   ],
   "source": [
    "print(my_tuple+(10,15))\n",
    "print(my_tuple)\n",
    "my_tuple = my_tuple +(10,15)\n",
    "print(my_tuple)"
   ]
  },
  {
   "cell_type": "code",
   "execution_count": 18,
   "metadata": {},
   "outputs": [
    {
     "name": "stdout",
     "output_type": "stream",
     "text": [
      "1\n",
      "5\n",
      "(5, 10)\n"
     ]
    }
   ],
   "source": [
    "print(my_tuple[0])\n",
    "print(my_tuple[2])\n",
    "print(my_tuple[2:4])"
   ]
  },
  {
   "cell_type": "code",
   "execution_count": 20,
   "metadata": {},
   "outputs": [
    {
     "name": "stdout",
     "output_type": "stream",
     "text": [
      "1\n",
      "0\n"
     ]
    }
   ],
   "source": [
    "print(my_tuple.count(10))\n",
    "print(my_tuple.count(100))"
   ]
  },
  {
   "cell_type": "code",
   "execution_count": 22,
   "metadata": {},
   "outputs": [
    {
     "name": "stdout",
     "output_type": "stream",
     "text": [
      "(1, 3, 5, 10, 15)\n",
      "3\n"
     ]
    },
    {
     "ename": "ValueError",
     "evalue": "tuple.index(x): x not in tuple",
     "output_type": "error",
     "traceback": [
      "\u001b[1;31m---------------------------------------------------------------------------\u001b[0m",
      "\u001b[1;31mValueError\u001b[0m                                Traceback (most recent call last)",
      "\u001b[1;32mc:\\Users\\User\\Desktop\\-20220830VCSPYTVAK-Python\\trecia_pamoka.ipynb Cell 12\u001b[0m in \u001b[0;36m<cell line: 5>\u001b[1;34m()\u001b[0m\n\u001b[0;32m      <a href='vscode-notebook-cell:/c%3A/Users/User/Desktop/-20220830VCSPYTVAK-Python/trecia_pamoka.ipynb#X20sZmlsZQ%3D%3D?line=2'>3</a>\u001b[0m \u001b[39mprint\u001b[39m(my_tuple\u001b[39m.\u001b[39mindex(\u001b[39m10\u001b[39m))\n\u001b[0;32m      <a href='vscode-notebook-cell:/c%3A/Users/User/Desktop/-20220830VCSPYTVAK-Python/trecia_pamoka.ipynb#X20sZmlsZQ%3D%3D?line=3'>4</a>\u001b[0m \u001b[39m#error\u001b[39;00m\n\u001b[1;32m----> <a href='vscode-notebook-cell:/c%3A/Users/User/Desktop/-20220830VCSPYTVAK-Python/trecia_pamoka.ipynb#X20sZmlsZQ%3D%3D?line=4'>5</a>\u001b[0m \u001b[39mprint\u001b[39m(my_tuple\u001b[39m.\u001b[39;49mindex(\u001b[39m100\u001b[39;49m))\n",
      "\u001b[1;31mValueError\u001b[0m: tuple.index(x): x not in tuple"
     ]
    }
   ],
   "source": [
    "my_tuple = (1,3,5,10,15)\n",
    "print(my_tuple)\n",
    "print(my_tuple.index(10))\n",
    "#error\n",
    "print(my_tuple.index(100))"
   ]
  },
  {
   "cell_type": "code",
   "execution_count": 23,
   "metadata": {},
   "outputs": [
    {
     "name": "stdout",
     "output_type": "stream",
     "text": [
      "(1, 3, 5, 10, 15)\n"
     ]
    },
    {
     "ename": "TypeError",
     "evalue": "'tuple' object does not support item assignment",
     "output_type": "error",
     "traceback": [
      "\u001b[1;31m---------------------------------------------------------------------------\u001b[0m",
      "\u001b[1;31mTypeError\u001b[0m                                 Traceback (most recent call last)",
      "\u001b[1;32mc:\\Users\\User\\Desktop\\-20220830VCSPYTVAK-Python\\trecia_pamoka.ipynb Cell 13\u001b[0m in \u001b[0;36m<cell line: 2>\u001b[1;34m()\u001b[0m\n\u001b[0;32m      <a href='vscode-notebook-cell:/c%3A/Users/User/Desktop/-20220830VCSPYTVAK-Python/trecia_pamoka.ipynb#X21sZmlsZQ%3D%3D?line=0'>1</a>\u001b[0m \u001b[39mprint\u001b[39m(my_tuple)\n\u001b[1;32m----> <a href='vscode-notebook-cell:/c%3A/Users/User/Desktop/-20220830VCSPYTVAK-Python/trecia_pamoka.ipynb#X21sZmlsZQ%3D%3D?line=1'>2</a>\u001b[0m my_tuple[\u001b[39m5\u001b[39;49m] \u001b[39m=\u001b[39m \u001b[39m849\u001b[39m\n",
      "\u001b[1;31mTypeError\u001b[0m: 'tuple' object does not support item assignment"
     ]
    }
   ],
   "source": [
    "print(my_tuple)\n",
    "my_tuple[5] = 849"
   ]
  },
  {
   "cell_type": "code",
   "execution_count": 26,
   "metadata": {},
   "outputs": [
    {
     "name": "stdout",
     "output_type": "stream",
     "text": [
      "5\n",
      "True\n",
      "False\n"
     ]
    }
   ],
   "source": [
    "print(len(my_tuple))\n",
    "print(10 in my_tuple)\n",
    "print(2 in my_tuple)"
   ]
  },
  {
   "cell_type": "code",
   "execution_count": 42,
   "metadata": {},
   "outputs": [
    {
     "name": "stdout",
     "output_type": "stream",
     "text": [
      "(1, 2, ['3', 4, 5], [6, [7, 8]])\n",
      "[6, [7, 8]]\n",
      "2\n",
      "[7, 8]\n",
      "8\n",
      "8\n"
     ]
    }
   ],
   "source": [
    "my_tuple = (1, 2, ['3',4,5], [6,[7,(8)]])\n",
    "print (my_tuple)\n",
    "print (my_tuple[3])\n",
    "print(len(my_tuple[3]))\n",
    "print(my_tuple[3][1])\n",
    "print(my_tuple[3][1][1])\n",
    "print(my_tuple[-1][-1][-1])\n"
   ]
  },
  {
   "cell_type": "code",
   "execution_count": 48,
   "metadata": {},
   "outputs": [
    {
     "name": "stdout",
     "output_type": "stream",
     "text": [
      "[222, 33]\n",
      "(11, [222, 22], 44, 55)\n"
     ]
    }
   ],
   "source": [
    "tuple1 = (11,[222, 33], 44, 55)\n",
    "print(tuple1[1])\n",
    "tuple1[1][1] = 22\n",
    "print(tuple1)\n"
   ]
  },
  {
   "cell_type": "code",
   "execution_count": 58,
   "metadata": {},
   "outputs": [
    {
     "name": "stdout",
     "output_type": "stream",
     "text": [
      "(66, 34, 76, 5, 1, 78, 35)\n",
      "[66, 34, 76, 5, 1, 78, 35]\n",
      "(66, 34, 76, 5, 1, 78, 35)\n",
      "(35, 78, 1, 5, 76, 34, 66)\n",
      "(1, 5, 34, 35, 66, 76, 78)\n",
      "1\n",
      "78\n"
     ]
    }
   ],
   "source": [
    "tuple1 = (66, 34, 76)\n",
    "tuple2 = (5, 1, 78, 35)\n",
    "tuple3 = tuple1 + tuple2\n",
    "print (tuple3)\n",
    "tmp_list = list(tuple3)\n",
    "print(tmp_list)\n",
    "tuple3 = tuple(tmp_list)\n",
    "print(tuple3)\n",
    "print(tuple3[::-1])\n",
    "#tmp_list.sort()\n",
    "tuple3=tuple(sorted(tuple3))\n",
    "print(tuple3)\n",
    "print(tuple3.count(34))\n",
    "print(tuple3[-1])\n",
    "\n"
   ]
  },
  {
   "cell_type": "markdown",
   "metadata": {},
   "source": [
    "RANGE"
   ]
  },
  {
   "cell_type": "code",
   "execution_count": 19,
   "metadata": {},
   "outputs": [
    {
     "name": "stdout",
     "output_type": "stream",
     "text": [
      "range(0, 10)\n",
      "<class 'range'>\n",
      "[0, 1, 2, 3, 4, 5, 6, 7, 8, 9]\n",
      "[5, 6, 7, 8, 9]\n",
      "[5, 8, 11, 14, 17]\n",
      "[100, 85, 70, 55, 40, 25, 10, -5, -20, -35]\n"
     ]
    }
   ],
   "source": [
    "print(range(10))\n",
    "print(type(range(10)))\n",
    "print(list(range(10)))\n",
    "print(list(range(5,10)))\n",
    "print(list(range(5,20,3)))\n",
    "print(list(range(100,-50,-15)))"
   ]
  },
  {
   "cell_type": "code",
   "execution_count": 71,
   "metadata": {},
   "outputs": [
    {
     "name": "stdout",
     "output_type": "stream",
     "text": [
      "Vilnius\n",
      "Vilnius yra nuostabus miestas!\n",
      "praejo vienas ciklas\n",
      "Kaunas\n",
      "Kaunas yra nuostabus miestas!\n",
      "praejo vienas ciklas\n",
      "Klaipeda\n",
      "Klaipeda yra nuostabus miestas!\n",
      "praejo vienas ciklas\n",
      "pabaiga\n"
     ]
    }
   ],
   "source": [
    "miestai = ['Vilnius', 'Kaunas', 'Klaipeda']\n",
    "#for<any_name> in list/sequence>:\n",
    "for miestas in miestai:\n",
    "    print(miestas)\n",
    "    #\n",
    "    print(f'{miestas} yra nuostabus miestas!')\n",
    "    print('praejo vienas ciklas')\n",
    "print('pabaiga')"
   ]
  },
  {
   "cell_type": "code",
   "execution_count": 72,
   "metadata": {},
   "outputs": [
    {
     "name": "stdout",
     "output_type": "stream",
     "text": [
      "1\n",
      "4\n",
      "7\n",
      "10\n",
      "13\n",
      "16\n",
      "19\n",
      "22\n",
      "25\n",
      "28\n",
      "31\n"
     ]
    }
   ],
   "source": [
    "for number in range(1,34,3):\n",
    "    print(number)"
   ]
  },
  {
   "cell_type": "code",
   "execution_count": 79,
   "metadata": {},
   "outputs": [
    {
     "name": "stdout",
     "output_type": "stream",
     "text": [
      "galutine suma: 165\n",
      "galutine suma: 654\n",
      "galutine suma: 1086\n"
     ]
    }
   ],
   "source": [
    "sarasas = [165,489,432]\n",
    "suma = 0\n",
    "for skaicius in sarasas:\n",
    "    suma += skaicius\n",
    "\n",
    "    print(f'galutine suma: {suma}')\n"
   ]
  },
  {
   "cell_type": "code",
   "execution_count": 86,
   "metadata": {},
   "outputs": [
    {
     "ename": "SyntaxError",
     "evalue": "invalid syntax (3516090957.py, line 2)",
     "output_type": "error",
     "traceback": [
      "\u001b[1;36m  Input \u001b[1;32mIn [86]\u001b[1;36m\u001b[0m\n\u001b[1;33m    for number in range(0:10):\u001b[0m\n\u001b[1;37m                         ^\u001b[0m\n\u001b[1;31mSyntaxError\u001b[0m\u001b[1;31m:\u001b[0m invalid syntax\n"
     ]
    }
   ],
   "source": [
    "number = [10]\n",
    "for number in range(0:10):\n",
    "    print(number)"
   ]
  },
  {
   "cell_type": "code",
   "execution_count": null,
   "metadata": {},
   "outputs": [],
   "source": []
  },
  {
   "cell_type": "code",
   "execution_count": 82,
   "metadata": {},
   "outputs": [],
   "source": []
  },
  {
   "cell_type": "code",
   "execution_count": null,
   "metadata": {},
   "outputs": [],
   "source": [
    "ivestas_skaicius = input('Irasykite skaiciu')"
   ]
  },
  {
   "cell_type": "code",
   "execution_count": 84,
   "metadata": {},
   "outputs": [
    {
     "ename": "NameError",
     "evalue": "name 'skaiciu_sarasas' is not defined",
     "output_type": "error",
     "traceback": [
      "\u001b[1;31m---------------------------------------------------------------------------\u001b[0m",
      "\u001b[1;31mNameError\u001b[0m                                 Traceback (most recent call last)",
      "\u001b[1;32mc:\\Users\\User\\Desktop\\-20220830VCSPYTVAK-Python\\trecia_pamoka.ipynb Cell 25\u001b[0m in \u001b[0;36m<cell line: 1>\u001b[1;34m()\u001b[0m\n\u001b[1;32m----> <a href='vscode-notebook-cell:/c%3A/Users/User/Desktop/-20220830VCSPYTVAK-Python/trecia_pamoka.ipynb#X33sZmlsZQ%3D%3D?line=0'>1</a>\u001b[0m skaicius \u001b[39m=\u001b[39m\u001b[39mint\u001b[39m(skaiciu_sarasas)\n\u001b[0;32m      <a href='vscode-notebook-cell:/c%3A/Users/User/Desktop/-20220830VCSPYTVAK-Python/trecia_pamoka.ipynb#X33sZmlsZQ%3D%3D?line=1'>2</a>\u001b[0m \u001b[39mprint\u001b[39m(skaicius)\n",
      "\u001b[1;31mNameError\u001b[0m: name 'skaiciu_sarasas' is not defined"
     ]
    }
   ],
   "source": [
    "\n",
    "skaicius =int(skaiciu_sarasas)\n",
    "print(skaicius)"
   ]
  },
  {
   "cell_type": "code",
   "execution_count": 92,
   "metadata": {},
   "outputs": [
    {
     "name": "stdout",
     "output_type": "stream",
     "text": [
      "<class 'str'>\n"
     ]
    }
   ],
   "source": [
    "ivestas_skaicius =input( 'iveskite skaiciu')\n",
    "print(type(ivestas_skaicius))\n",
    "\n"
   ]
  },
  {
   "cell_type": "code",
   "execution_count": null,
   "metadata": {},
   "outputs": [],
   "source": [
    "5 * 1 \n",
    "5 * 2 \n",
    "5 * 3 \n",
    ".....\n",
    "5 * 10"
   ]
  },
  {
   "cell_type": "code",
   "execution_count": 94,
   "metadata": {},
   "outputs": [
    {
     "name": "stdout",
     "output_type": "stream",
     "text": [
      "432\n",
      "864\n",
      "1296\n",
      "1728\n",
      "2160\n",
      "2592\n",
      "3024\n",
      "3456\n",
      "3888\n",
      "4320\n"
     ]
    }
   ],
   "source": [
    "saicius = input('iveskite skaiciu')\n",
    "skaicius = int(skaicius)\n",
    "\n",
    "for x in range(1,11):\n",
    "    x = x * skaicius\n",
    "    print(x)\n"
   ]
  },
  {
   "cell_type": "code",
   "execution_count": 106,
   "metadata": {},
   "outputs": [
    {
     "name": "stdout",
     "output_type": "stream",
     "text": [
      "Pirmadienis 10\n",
      "Pirmadienis 11\n",
      "Pirmadienis 12\n",
      "Pirmadienis 13\n",
      "Pirmadienis 14\n",
      "Pirmadienis 15\n",
      "Pirmadienis 16\n",
      "Pirmadienis 17\n",
      "Pirmadienis 19\n",
      "Pirmadienis 19\n",
      "Antradienis 10\n",
      "Antradienis 11\n",
      "Antradienis 12\n",
      "Antradienis 13\n",
      "Antradienis 14\n",
      "Antradienis 15\n",
      "Antradienis 16\n",
      "Antradienis 17\n",
      "Antradienis 19\n",
      "Antradienis 19\n",
      "Treciadienis 10\n",
      "Treciadienis 11\n",
      "Treciadienis 12\n",
      "Treciadienis 13\n",
      "Treciadienis 14\n",
      "Treciadienis 15\n",
      "Treciadienis 16\n",
      "Treciadienis 17\n",
      "Treciadienis 19\n",
      "Treciadienis 19\n",
      "Ketvirtadienis 10\n",
      "Ketvirtadienis 11\n",
      "Ketvirtadienis 12\n",
      "Ketvirtadienis 13\n",
      "Ketvirtadienis 14\n",
      "Ketvirtadienis 15\n",
      "Ketvirtadienis 16\n",
      "Ketvirtadienis 17\n",
      "Ketvirtadienis 19\n",
      "Ketvirtadienis 19\n",
      "Penktadienis 10\n",
      "Penktadienis 11\n",
      "Penktadienis 12\n",
      "Penktadienis 13\n",
      "Penktadienis 14\n",
      "Penktadienis 15\n",
      "Penktadienis 16\n",
      "Penktadienis 17\n",
      "Penktadienis 19\n",
      "Penktadienis 19\n",
      "Sestadienis 10\n",
      "Sestadienis 11\n",
      "Sestadienis 12\n",
      "Sestadienis 13\n",
      "Sestadienis 14\n",
      "Sestadienis 15\n",
      "Sestadienis 16\n",
      "Sestadienis 17\n",
      "Sestadienis 19\n",
      "Sestadienis 19\n",
      "Sekmadienis 10\n",
      "Sekmadienis 11\n",
      "Sekmadienis 12\n",
      "Sekmadienis 13\n",
      "Sekmadienis 14\n",
      "Sekmadienis 15\n",
      "Sekmadienis 16\n",
      "Sekmadienis 17\n",
      "Sekmadienis 19\n",
      "Sekmadienis 19\n",
      "[('Pirmadienis', 10), ('Pirmadienis', 11), ('Pirmadienis', 12), ('Pirmadienis', 13), ('Pirmadienis', 14), ('Pirmadienis', 15), ('Pirmadienis', 16), ('Pirmadienis', 17), ('Pirmadienis', 19), ('Pirmadienis', 19), ('Antradienis', 10), ('Antradienis', 11), ('Antradienis', 12), ('Antradienis', 13), ('Antradienis', 14), ('Antradienis', 15), ('Antradienis', 16), ('Antradienis', 17), ('Antradienis', 19), ('Antradienis', 19), ('Treciadienis', 10), ('Treciadienis', 11), ('Treciadienis', 12), ('Treciadienis', 13), ('Treciadienis', 14), ('Treciadienis', 15), ('Treciadienis', 16), ('Treciadienis', 17), ('Treciadienis', 19), ('Treciadienis', 19), ('Ketvirtadienis', 10), ('Ketvirtadienis', 11), ('Ketvirtadienis', 12), ('Ketvirtadienis', 13), ('Ketvirtadienis', 14), ('Ketvirtadienis', 15), ('Ketvirtadienis', 16), ('Ketvirtadienis', 17), ('Ketvirtadienis', 19), ('Ketvirtadienis', 19), ('Penktadienis', 10), ('Penktadienis', 11), ('Penktadienis', 12), ('Penktadienis', 13), ('Penktadienis', 14), ('Penktadienis', 15), ('Penktadienis', 16), ('Penktadienis', 17), ('Penktadienis', 19), ('Penktadienis', 19), ('Sestadienis', 10), ('Sestadienis', 11), ('Sestadienis', 12), ('Sestadienis', 13), ('Sestadienis', 14), ('Sestadienis', 15), ('Sestadienis', 16), ('Sestadienis', 17), ('Sestadienis', 19), ('Sestadienis', 19), ('Sekmadienis', 10), ('Sekmadienis', 11), ('Sekmadienis', 12), ('Sekmadienis', 13), ('Sekmadienis', 14), ('Sekmadienis', 15), ('Sekmadienis', 16), ('Sekmadienis', 17), ('Sekmadienis', 19), ('Sekmadienis', 19)]\n"
     ]
    }
   ],
   "source": [
    "dienos = ['Pirmadienis', 'Antradienis','Treciadienis', 'Ketvirtadienis', 'Penktadienis', 'Sestadienis', 'Sekmadienis']\n",
    "valandos = [10, 11, 12, 13, 14, 15, 16, 17, 19, 19 ]\n",
    "\n",
    "kombinacijos = []\n",
    "for diena in dienos:\n",
    "    for valanda in valandos:\n",
    "        print(diena, valanda)\n",
    "        kombinacijos.append( (diena, valanda))\n",
    "print(kombinacijos)"
   ]
  },
  {
   "cell_type": "code",
   "execution_count": null,
   "metadata": {},
   "outputs": [],
   "source": []
  },
  {
   "cell_type": "markdown",
   "metadata": {},
   "source": [
    "IF DEKLARACIJA"
   ]
  },
  {
   "cell_type": "code",
   "execution_count": 109,
   "metadata": {},
   "outputs": [
    {
     "name": "stdout",
     "output_type": "stream",
     "text": [
      "Jums yra 19, jus esate pilnametis\n",
      "pabaiga\n"
     ]
    }
   ],
   "source": [
    "age = int(input(\"iveskite amziu:\"))\n",
    "\n",
    "if age >= 18 :\n",
    "    print(f'Jums yra {age}, jus esate pilnametis')\n",
    "\n",
    "print('pabaiga')"
   ]
  },
  {
   "cell_type": "code",
   "execution_count": 112,
   "metadata": {},
   "outputs": [
    {
     "name": "stdout",
     "output_type": "stream",
     "text": [
      "Jums yra 18, jus esate pilnametis\n",
      "pabaiga\n"
     ]
    }
   ],
   "source": [
    "age = int(input(\"iveskite amziu:\"))\n",
    "\n",
    "if age >= 18 :\n",
    "    print(f'Jums yra {age}, jus esate pilnametis')\n",
    "else:\n",
    "    print(f'Jums yra {age}, dar teks paaugti')\n",
    "\n",
    "print('pabaiga')"
   ]
  },
  {
   "cell_type": "code",
   "execution_count": 115,
   "metadata": {},
   "outputs": [
    {
     "name": "stdout",
     "output_type": "stream",
     "text": [
      "tau yra tarp 12 ir 18metu\n",
      "pabaiga\n"
     ]
    }
   ],
   "source": [
    "age = int(input(\"iveskite amziu:\"))\n",
    "\n",
    "if age >= 18 :\n",
    "    print(f'Jums yra {age}, jus esate pilnametis')\n",
    "elif age > 12:\n",
    "    print('tau yra tarp 12 ir 18metu')\n",
    "\n",
    "else:\n",
    "    print(f'Jums yra {age}, dar teks paaugti')\n",
    "\n",
    "print('pabaiga')"
   ]
  },
  {
   "cell_type": "code",
   "execution_count": 121,
   "metadata": {},
   "outputs": [
    {
     "name": "stdout",
     "output_type": "stream",
     "text": [
      "nelyginis\n",
      "12\n"
     ]
    }
   ],
   "source": [
    "x = int(input(\"iveskite amziu:\"))\n",
    "\n",
    "if x % 2 == 0:\n",
    "    print('lyginis')\n",
    "    x /= 2\n",
    "else:\n",
    "    print('nelyginis')\n",
    "    x *=4\n",
    "print(x)"
   ]
  },
  {
   "cell_type": "code",
   "execution_count": 125,
   "metadata": {},
   "outputs": [
    {
     "ename": "SyntaxError",
     "evalue": "invalid syntax (1076099471.py, line 14)",
     "output_type": "error",
     "traceback": [
      "\u001b[1;36m  Input \u001b[1;32mIn [125]\u001b[1;36m\u001b[0m\n\u001b[1;33m    else:\u001b[0m\n\u001b[1;37m    ^\u001b[0m\n\u001b[1;31mSyntaxError\u001b[0m\u001b[1;31m:\u001b[0m invalid syntax\n"
     ]
    }
   ],
   "source": [
    "x = int(input(\"iveskite amziu:\"))\n",
    "y = int(input(\"antra skaiciu:\"))\n",
    "\n",
    "if x % 2 == 0:\n",
    "    print('lyginis')\n",
    "    x /= 2\n",
    "    if y >= 10:\n",
    "        y = x * y\n",
    "else:\n",
    "    print('nelyginis')\n",
    "    x *=4\n",
    "    if y >= 20:\n",
    "        y = y / x\n",
    "        else:\n",
    "    y += 5\n",
    "print(x)\n",
    "print(y)"
   ]
  },
  {
   "cell_type": "code",
   "execution_count": null,
   "metadata": {},
   "outputs": [],
   "source": []
  },
  {
   "cell_type": "code",
   "execution_count": null,
   "metadata": {},
   "outputs": [],
   "source": []
  },
  {
   "cell_type": "code",
   "execution_count": null,
   "metadata": {},
   "outputs": [],
   "source": []
  }
 ],
 "metadata": {
  "kernelspec": {
   "display_name": "Python 3.10.6 64-bit",
   "language": "python",
   "name": "python3"
  },
  "language_info": {
   "codemirror_mode": {
    "name": "ipython",
    "version": 3
   },
   "file_extension": ".py",
   "mimetype": "text/x-python",
   "name": "python",
   "nbconvert_exporter": "python",
   "pygments_lexer": "ipython3",
   "version": "3.10.6"
  },
  "orig_nbformat": 4,
  "vscode": {
   "interpreter": {
    "hash": "afb734500600fd355917ca529030176ea0ca205570884b88f2f6f7d791fd3fbe"
   }
  }
 },
 "nbformat": 4,
 "nbformat_minor": 2
}
