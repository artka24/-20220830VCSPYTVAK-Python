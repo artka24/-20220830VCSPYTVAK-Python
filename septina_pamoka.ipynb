{
 "cells": [
  {
   "cell_type": "markdown",
   "metadata": {},
   "source": [
    "CLASSES"
   ]
  },
  {
   "cell_type": "code",
   "execution_count": 3,
   "metadata": {},
   "outputs": [],
   "source": [
    "class Car:\n",
    "    def __init__(self, brand, year, color, car_type):\n",
    "        self.brand = brand\n",
    "        self.year = year\n",
    "        self.color = color\n",
    "        self.car_type = car_type\n",
    "        self.engine_status = False\n",
    "    def __str__(self) -> str:\n",
    "        return f'Brand: {self.brand}, year: {self.year}, color: {self.color}'"
   ]
  },
  {
   "cell_type": "code",
   "execution_count": 4,
   "metadata": {},
   "outputs": [],
   "source": [
    "class Pipe:\n",
    "    def __init__(self) -> None:\n",
    "        pass\n",
    "\n",
    "    def flow_rate(self, velocity):\n",
    "        return self.cross_section() * velocity\n",
    "    \n",
    "    def cross_section(slef):\n",
    "        raise NotImplementedError\n"
   ]
  },
  {
   "cell_type": "code",
   "execution_count": 9,
   "metadata": {},
   "outputs": [],
   "source": [
    "from turtle import width\n",
    "\n",
    "\n",
    "class SquarePipe(Pipe):\n",
    "    def __init__(self, witdh, height):\n",
    "        self.width = width\n",
    "        self.height = height\n",
    "    \n",
    "    def cross_section(self):\n",
    "        return self.width * self.height"
   ]
  },
  {
   "cell_type": "code",
   "execution_count": 11,
   "metadata": {},
   "outputs": [
    {
     "ename": "TypeError",
     "evalue": "unsupported operand type(s) for *: 'function' and 'float'",
     "output_type": "error",
     "traceback": [
      "\u001b[1;31m---------------------------------------------------------------------------\u001b[0m",
      "\u001b[1;31mTypeError\u001b[0m                                 Traceback (most recent call last)",
      "\u001b[1;32mc:\\Users\\User\\Desktop\\-20220830VCSPYTVAK-Python\\septina_pamoka.ipynb Cell 5\u001b[0m in \u001b[0;36m<cell line: 2>\u001b[1;34m()\u001b[0m\n\u001b[0;32m      <a href='vscode-notebook-cell:/c%3A/Users/User/Desktop/-20220830VCSPYTVAK-Python/septina_pamoka.ipynb#W4sZmlsZQ%3D%3D?line=0'>1</a>\u001b[0m square_pipe_1 \u001b[39m=\u001b[39m SquarePipe(\u001b[39m0.4\u001b[39m, \u001b[39m0.3\u001b[39m)\n\u001b[1;32m----> <a href='vscode-notebook-cell:/c%3A/Users/User/Desktop/-20220830VCSPYTVAK-Python/septina_pamoka.ipynb#W4sZmlsZQ%3D%3D?line=1'>2</a>\u001b[0m square_pipe_1\u001b[39m.\u001b[39;49mflow_rate(\u001b[39m0.5\u001b[39;49m)\n",
      "\u001b[1;32mc:\\Users\\User\\Desktop\\-20220830VCSPYTVAK-Python\\septina_pamoka.ipynb Cell 5\u001b[0m in \u001b[0;36mPipe.flow_rate\u001b[1;34m(self, velocity)\u001b[0m\n\u001b[0;32m      <a href='vscode-notebook-cell:/c%3A/Users/User/Desktop/-20220830VCSPYTVAK-Python/septina_pamoka.ipynb#W4sZmlsZQ%3D%3D?line=4'>5</a>\u001b[0m \u001b[39mdef\u001b[39;00m \u001b[39mflow_rate\u001b[39m(\u001b[39mself\u001b[39m, velocity):\n\u001b[1;32m----> <a href='vscode-notebook-cell:/c%3A/Users/User/Desktop/-20220830VCSPYTVAK-Python/septina_pamoka.ipynb#W4sZmlsZQ%3D%3D?line=5'>6</a>\u001b[0m     \u001b[39mreturn\u001b[39;00m \u001b[39mself\u001b[39;49m\u001b[39m.\u001b[39;49mcross_section() \u001b[39m*\u001b[39m velocity\n",
      "\u001b[1;32mc:\\Users\\User\\Desktop\\-20220830VCSPYTVAK-Python\\septina_pamoka.ipynb Cell 5\u001b[0m in \u001b[0;36mSquarePipe.cross_section\u001b[1;34m(self)\u001b[0m\n\u001b[0;32m      <a href='vscode-notebook-cell:/c%3A/Users/User/Desktop/-20220830VCSPYTVAK-Python/septina_pamoka.ipynb#W4sZmlsZQ%3D%3D?line=8'>9</a>\u001b[0m \u001b[39mdef\u001b[39;00m \u001b[39mcross_section\u001b[39m(\u001b[39mself\u001b[39m):\n\u001b[1;32m---> <a href='vscode-notebook-cell:/c%3A/Users/User/Desktop/-20220830VCSPYTVAK-Python/septina_pamoka.ipynb#W4sZmlsZQ%3D%3D?line=9'>10</a>\u001b[0m     \u001b[39mreturn\u001b[39;00m \u001b[39mself\u001b[39;49m\u001b[39m.\u001b[39;49mwidth \u001b[39m*\u001b[39;49m \u001b[39mself\u001b[39;49m\u001b[39m.\u001b[39;49mheight\n",
      "\u001b[1;31mTypeError\u001b[0m: unsupported operand type(s) for *: 'function' and 'float'"
     ]
    }
   ],
   "source": [
    "square_pipe_1 = SquarePipe(0.4, 0.3)\n",
    "square_pipe_1.flow_rate(0.5) "
   ]
  },
  {
   "cell_type": "code",
   "execution_count": 15,
   "metadata": {},
   "outputs": [],
   "source": [
    "import datetime\n",
    "\n",
    "class Biblioteka:\n",
    "    def __init__(self, pavadinimas):\n",
    "        self.pavadiniasm = pavadinimas\n",
    "        self.knygos = []\n",
    "\n",
    "    def prideti_knyga(self, knyga):\n",
    "        self.knygos.append(knyga)\n",
    "\n",
    "    def pasalinti_knyga(self, knyga_pasalinimui):\n",
    "        if knyga_pasalinimui in self.knygos:\n",
    "            self.knygos.remove(knyga_pasalinimui)\n",
    "        else:\n",
    "                print(f'Knyga{knyga_pasalinimui} nerasta musu sistemoje, negalime jos pasalinti')\n"
   ]
  },
  {
   "cell_type": "code",
   "execution_count": 16,
   "metadata": {},
   "outputs": [],
   "source": [
    "from os import terminal_size\n",
    "\n",
    "\n",
    "class Knyga:\n",
    "    def __init__(self, pavadinimas, autorius, metai, puslapiu_kiekis):\n",
    "        self.pavadinimas = pavadinimas\n",
    "        self.autorius = autorius\n",
    "        self.metai = metai\n",
    "        self.puslapiu_kiekis = puslapiu_kiekis\n",
    "\n",
    "        self.paskolinta = False\n",
    "        self.savininkas = None\n",
    "        self.grazinimo_terminas = None\n",
    "\n",
    "def skolinti(self, naujas_savininkas, terminas):\n",
    "    self.savininkas = naujas_savininkas\n",
    "    self.grazinimo_terminas = terminas \n",
    "\n",
    "\n",
    "    def __eq__(self, kita_knyga) -> bool:\n",
    "        return self.pavadinimas == kita_knyga.pavadinimas and self.autorius == kita_knyga.autorius-+"
   ]
  },
  {
   "cell_type": "code",
   "execution_count": null,
   "metadata": {},
   "outputs": [],
   "source": []
  },
  {
   "cell_type": "code",
   "execution_count": null,
   "metadata": {},
   "outputs": [],
   "source": []
  }
 ],
 "metadata": {
  "kernelspec": {
   "display_name": "Python 3.10.6 64-bit",
   "language": "python",
   "name": "python3"
  },
  "language_info": {
   "codemirror_mode": {
    "name": "ipython",
    "version": 3
   },
   "file_extension": ".py",
   "mimetype": "text/x-python",
   "name": "python",
   "nbconvert_exporter": "python",
   "pygments_lexer": "ipython3",
   "version": "3.10.6"
  },
  "orig_nbformat": 4,
  "vscode": {
   "interpreter": {
    "hash": "afb734500600fd355917ca529030176ea0ca205570884b88f2f6f7d791fd3fbe"
   }
  }
 },
 "nbformat": 4,
 "nbformat_minor": 2
}
