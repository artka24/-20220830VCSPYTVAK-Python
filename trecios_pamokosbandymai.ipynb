{
 "cells": [
  {
   "cell_type": "code",
   "execution_count": 10,
   "metadata": {},
   "outputs": [
    {
     "name": "stdout",
     "output_type": "stream",
     "text": [
      "(4, 7, 9, 11, 16, 3, 9, 18, 23)\n",
      "(4, 7, 9, 11, 16, 3, 9, 18)\n",
      "[3, 4, 7, 9, 9, 11, 16, 18, 23]\n",
      "[3, 4, 7, 9, 9, 11, 16, 18]\n",
      "2\n"
     ]
    }
   ],
   "source": [
    "#1 PIRMA UOZDUOTIS\n",
    "my_list1 = (4, 7, 9, 11, 16)\n",
    "my_list2 = (3, 9, 18, 23)\n",
    "my_list3 = my_list1 + my_list2\n",
    "print(my_list3)\n",
    "print(my_list3[:-1])\n",
    "print(sorted(my_list3))\n",
    "print(sorted(my_list3[:-1]))\n",
    "print(my_list3.count(9))"
   ]
  },
  {
   "cell_type": "code",
   "execution_count": 22,
   "metadata": {},
   "outputs": [
    {
     "name": "stdout",
     "output_type": "stream",
     "text": [
      "(12, 48, 98, 101, 12, 35, 45, 89, 12)\n",
      "(12, 48, 98, 101, 12, 35, 45, 89)\n",
      "[12, 12, 12, 35, 45, 48, 89, 98, 101]\n",
      "3\n",
      "101\n"
     ]
    }
   ],
   "source": [
    "#1 PIRMA UZDUOTIS\n",
    "list1=(12,48,98,101)\n",
    "list2=(12,35,45,89,12)\n",
    "list3= list1+list2\n",
    "print(list3)\n",
    "print(list3[:-1])\n",
    "print(sorted(list3))\n",
    "print(list3.count(12))\n",
    "print(list3[3])"
   ]
  },
  {
   "cell_type": "code",
   "execution_count": 82,
   "metadata": {},
   "outputs": [
    {
     "name": "stdout",
     "output_type": "stream",
     "text": [
      "0\n",
      "1\n",
      "2\n",
      "3\n",
      "4\n",
      "5\n",
      "6\n",
      "7\n",
      "8\n",
      "9\n",
      "10\n",
      "11\n",
      "12\n",
      "13\n",
      "14\n",
      "15\n",
      "16\n",
      "17\n",
      "18\n",
      "19\n",
      "16\n"
     ]
    }
   ],
   "source": [
    "#2.2 ANTRA UZDUOTIS(NEUSISIPRATIMAI?)\n",
    "for skaiciai in range (20):\n",
    "    print(skaiciai )\n",
    "\n",
    "suma = 0\n",
    "for skaiciai in range (0,51):\n",
    "    suma = suma + skaiciai\n",
    "print(suma)"
   ]
  },
  {
   "cell_type": "code",
   "execution_count": 153,
   "metadata": {},
   "outputs": [
    {
     "name": "stdout",
     "output_type": "stream",
     "text": [
      "range(0, 21) be <class 'range'>\n",
      "0\n"
     ]
    }
   ],
   "source": [
    "#2.1(NESUSIPRATIMAI))\n",
    "suma = number \n",
    "suma = range(0,21)\n",
    "print(f'{suma} be {type(suma)}')\n",
    "print(21 % 3)"
   ]
  },
  {
   "cell_type": "code",
   "execution_count": 211,
   "metadata": {},
   "outputs": [
    {
     "ename": "TypeError",
     "evalue": "int() argument must be a string, a bytes-like object or a real number, not 'range'",
     "output_type": "error",
     "traceback": [
      "\u001b[1;31m---------------------------------------------------------------------------\u001b[0m",
      "\u001b[1;31mTypeError\u001b[0m                                 Traceback (most recent call last)",
      "\u001b[1;32mc:\\Users\\User\\Desktop\\-20220830VCSPYTVAK-Python\\trecios_pamokosbandymai.ipynb Cell 7\u001b[0m in \u001b[0;36m<cell line: 1>\u001b[1;34m()\u001b[0m\n\u001b[1;32m----> <a href='vscode-notebook-cell:/c%3A/Users/User/Desktop/-20220830VCSPYTVAK-Python/trecios_pamokosbandymai.ipynb#X21sZmlsZQ%3D%3D?line=0'>1</a>\u001b[0m skaicius \u001b[39m=\u001b[39m \u001b[39mint\u001b[39;49m(\u001b[39mrange\u001b[39;49m(\u001b[39m1\u001b[39;49m,\u001b[39m21\u001b[39;49m))\n\u001b[0;32m      <a href='vscode-notebook-cell:/c%3A/Users/User/Desktop/-20220830VCSPYTVAK-Python/trecios_pamokosbandymai.ipynb#X21sZmlsZQ%3D%3D?line=1'>2</a>\u001b[0m \u001b[39mfor\u001b[39;00m x \u001b[39min\u001b[39;00m \u001b[39mrange\u001b[39m(\u001b[39m1\u001b[39m,\u001b[39m21\u001b[39m):\n\u001b[0;32m      <a href='vscode-notebook-cell:/c%3A/Users/User/Desktop/-20220830VCSPYTVAK-Python/trecios_pamokosbandymai.ipynb#X21sZmlsZQ%3D%3D?line=2'>3</a>\u001b[0m     \u001b[39mprint\u001b[39m(x \u001b[39m*\u001b[39m skaicius)\n",
      "\u001b[1;31mTypeError\u001b[0m: int() argument must be a string, a bytes-like object or a real number, not 'range'"
     ]
    }
   ],
   "source": [
    "#2.1 VEL BANDYMAI ........\n",
    "skaicius = int(range(1,21))\n",
    "for x in range(1,21):\n",
    "    print(x * skaicius)"
   ]
  },
  {
   "cell_type": "code",
   "execution_count": 196,
   "metadata": {},
   "outputs": [
    {
     "name": "stdout",
     "output_type": "stream",
     "text": [
      "0 dalyba is 3 0.\n",
      "1 dalyba is 3 1.\n",
      "2 dalyba is 3 2.\n",
      "3 dalyba is 3 0.\n",
      "4 dalyba is 3 1.\n",
      "5 dalyba is 3 2.\n",
      "6 dalyba is 3 0.\n",
      "7 dalyba is 3 1.\n",
      "8 dalyba is 3 2.\n",
      "9 dalyba is 3 0.\n",
      "10 dalyba is 3 1.\n",
      "11 dalyba is 3 2.\n",
      "12 dalyba is 3 0.\n",
      "13 dalyba is 3 1.\n",
      "14 dalyba is 3 2.\n",
      "15 dalyba is 3 0.\n",
      "16 dalyba is 3 1.\n",
      "17 dalyba is 3 2.\n",
      "18 dalyba is 3 0.\n",
      "19 dalyba is 3 1.\n",
      "20 dalyba is 3 2.\n"
     ]
    }
   ],
   "source": [
    "#2.1 VEL BANDYMAI KAIP NORS KITAIP...\n",
    "for i in range(0, 21):\n",
    "    float = i % 3\n",
    "    print(f\"{i} dalyba is 3 {int(float)}.\")\n"
   ]
  },
  {
   "cell_type": "code",
   "execution_count": 212,
   "metadata": {},
   "outputs": [
    {
     "name": "stdout",
     "output_type": "stream",
     "text": [
      "1\n",
      "8\n",
      "27\n",
      "64\n",
      "125\n",
      "216\n",
      "343\n",
      "512\n",
      "729\n",
      "1000\n"
     ]
    }
   ],
   "source": [
    "#3 TRECIA UZDUOTIS....\n",
    "pasirinktas_sakicius = input('Iveskite norima skaiciu')\n",
    "pasirinktas_skaicius = int(pasirinktas_sakicius)\n",
    "\n",
    "for x in range(1,11):\n",
    "    print(x ** pasirinktas_skaicius)\n",
    "\n"
   ]
  },
  {
   "cell_type": "code",
   "execution_count": 118,
   "metadata": {},
   "outputs": [],
   "source": [
    "#3 nesusigaudau\n",
    "skaiciux = int(input('iveskite norima skaiciuka'))\n",
    "if skaiciux **2 == 0:\n",
    "    print('lyg')\n",
    "elif skaiciux **2== 0:\n",
    "    print(skaiciux)\n",
    "\n"
   ]
  },
  {
   "cell_type": "code",
   "execution_count": 125,
   "metadata": {},
   "outputs": [],
   "source": [
    "#4 KOSMOSAS......\n",
    "dienos = ('Pirmadienis', 'Antradienis', 'Treciadienis','Ketvirtadienis', 'Penktadienis', 'Sestadienis' , 'Sekmadienis')\n",
    "valandos = ['10', '11', '12', '13', '14', '15', '16', '17', '18', '19']\n",
    "\n",
    "if dienos == ('Pirmadiensis', 'Antradienis', 'Ketvirtadienis', 'Penktadienis', 'Sestadienis' , 'Sekmadienis'):\n",
    "    print(valandos)"
   ]
  },
  {
   "cell_type": "code",
   "execution_count": 132,
   "metadata": {},
   "outputs": [
    {
     "name": "stdout",
     "output_type": "stream",
     "text": [
      "Pirmadienis 10\n",
      " Pirmadienis 10\n",
      "Pirmadienis 11\n",
      " Pirmadienis 11\n",
      "Pirmadienis 12\n",
      " Pirmadienis 12\n",
      "Pirmadienis 13\n",
      " Pirmadienis 13\n",
      "Pirmadienis 14\n",
      " Pirmadienis 14\n",
      "Pirmadienis 15\n",
      " Pirmadienis 15\n",
      "Pirmadienis 16\n",
      " Pirmadienis 16\n",
      "Pirmadienis 17\n",
      " Pirmadienis 17\n",
      "Pirmadienis 18\n",
      " Pirmadienis 18\n",
      "Pirmadienis 19\n",
      " Pirmadienis 19\n",
      "Antradienis 10\n",
      " Antradienis 10\n",
      "Antradienis 11\n",
      " Antradienis 11\n",
      "Antradienis 12\n",
      " Antradienis 12\n",
      "Antradienis 13\n",
      " Antradienis 13\n",
      "Antradienis 14\n",
      " Antradienis 14\n",
      "Antradienis 15\n",
      " Antradienis 15\n",
      "Antradienis 16\n",
      " Antradienis 16\n",
      "Antradienis 17\n",
      " Antradienis 17\n",
      "Antradienis 18\n",
      " Antradienis 18\n",
      "Antradienis 19\n",
      " Antradienis 19\n",
      "Treciadienis 10\n",
      " Treciadienis 10\n",
      "Treciadienis 11\n",
      " Treciadienis 11\n",
      "Treciadienis 12\n",
      " Treciadienis 12\n",
      "Treciadienis 13\n",
      " Treciadienis 13\n",
      "Treciadienis 14\n",
      " Treciadienis 14\n",
      "Treciadienis 15\n",
      " Treciadienis 15\n",
      "Treciadienis 16\n",
      " Treciadienis 16\n",
      "Treciadienis 17\n",
      " Treciadienis 17\n",
      "Treciadienis 18\n",
      " Treciadienis 18\n",
      "Treciadienis 19\n",
      " Treciadienis 19\n",
      "Ketvirtadienis 10\n",
      " Ketvirtadienis 10\n",
      "Ketvirtadienis 11\n",
      " Ketvirtadienis 11\n",
      "Ketvirtadienis 12\n",
      " Ketvirtadienis 12\n",
      "Ketvirtadienis 13\n",
      " Ketvirtadienis 13\n",
      "Ketvirtadienis 14\n",
      " Ketvirtadienis 14\n",
      "Ketvirtadienis 15\n",
      " Ketvirtadienis 15\n",
      "Ketvirtadienis 16\n",
      " Ketvirtadienis 16\n",
      "Ketvirtadienis 17\n",
      " Ketvirtadienis 17\n",
      "Ketvirtadienis 18\n",
      " Ketvirtadienis 18\n",
      "Ketvirtadienis 19\n",
      " Ketvirtadienis 19\n",
      "Penktadienis 10\n",
      " Penktadienis 10\n",
      "Penktadienis 11\n",
      " Penktadienis 11\n",
      "Penktadienis 12\n",
      " Penktadienis 12\n",
      "Penktadienis 13\n",
      " Penktadienis 13\n",
      "Penktadienis 14\n",
      " Penktadienis 14\n",
      "Penktadienis 15\n",
      " Penktadienis 15\n",
      "Penktadienis 16\n",
      " Penktadienis 16\n",
      "Penktadienis 17\n",
      " Penktadienis 17\n",
      "Penktadienis 18\n",
      " Penktadienis 18\n",
      "Penktadienis 19\n",
      " Penktadienis 19\n",
      "Sestadienis 10\n",
      " Sestadienis 10\n",
      "Sestadienis 11\n",
      " Sestadienis 11\n",
      "Sestadienis 12\n",
      " Sestadienis 12\n",
      "Sestadienis 13\n",
      " Sestadienis 13\n",
      "Sestadienis 14\n",
      " Sestadienis 14\n",
      "Sestadienis 15\n",
      " Sestadienis 15\n",
      "Sestadienis 16\n",
      " Sestadienis 16\n",
      "Sestadienis 17\n",
      " Sestadienis 17\n",
      "Sestadienis 18\n",
      " Sestadienis 18\n",
      "Sestadienis 19\n",
      " Sestadienis 19\n",
      "Sekmadienis 10\n",
      " Sekmadienis 10\n",
      "Sekmadienis 11\n",
      " Sekmadienis 11\n",
      "Sekmadienis 12\n",
      " Sekmadienis 12\n",
      "Sekmadienis 13\n",
      " Sekmadienis 13\n",
      "Sekmadienis 14\n",
      " Sekmadienis 14\n",
      "Sekmadienis 15\n",
      " Sekmadienis 15\n",
      "Sekmadienis 16\n",
      " Sekmadienis 16\n",
      "Sekmadienis 17\n",
      " Sekmadienis 17\n",
      "Sekmadienis 18\n",
      " Sekmadienis 18\n",
      "Sekmadienis 19\n",
      " Sekmadienis 19\n",
      "[('Pirmadienis', '10'), ('Pirmadienis', '11'), ('Pirmadienis', '12'), ('Pirmadienis', '13'), ('Pirmadienis', '14'), ('Pirmadienis', '15'), ('Pirmadienis', '16'), ('Pirmadienis', '17'), ('Pirmadienis', '18'), ('Pirmadienis', '19'), ('Antradienis', '10'), ('Antradienis', '11'), ('Antradienis', '12'), ('Antradienis', '13'), ('Antradienis', '14'), ('Antradienis', '15'), ('Antradienis', '16'), ('Antradienis', '17'), ('Antradienis', '18'), ('Antradienis', '19'), ('Treciadienis', '10'), ('Treciadienis', '11'), ('Treciadienis', '12'), ('Treciadienis', '13'), ('Treciadienis', '14'), ('Treciadienis', '15'), ('Treciadienis', '16'), ('Treciadienis', '17'), ('Treciadienis', '18'), ('Treciadienis', '19'), ('Ketvirtadienis', '10'), ('Ketvirtadienis', '11'), ('Ketvirtadienis', '12'), ('Ketvirtadienis', '13'), ('Ketvirtadienis', '14'), ('Ketvirtadienis', '15'), ('Ketvirtadienis', '16'), ('Ketvirtadienis', '17'), ('Ketvirtadienis', '18'), ('Ketvirtadienis', '19'), ('Penktadienis', '10'), ('Penktadienis', '11'), ('Penktadienis', '12'), ('Penktadienis', '13'), ('Penktadienis', '14'), ('Penktadienis', '15'), ('Penktadienis', '16'), ('Penktadienis', '17'), ('Penktadienis', '18'), ('Penktadienis', '19'), ('Sestadienis', '10'), ('Sestadienis', '11'), ('Sestadienis', '12'), ('Sestadienis', '13'), ('Sestadienis', '14'), ('Sestadienis', '15'), ('Sestadienis', '16'), ('Sestadienis', '17'), ('Sestadienis', '18'), ('Sestadienis', '19'), ('Sekmadienis', '10'), ('Sekmadienis', '11'), ('Sekmadienis', '12'), ('Sekmadienis', '13'), ('Sekmadienis', '14'), ('Sekmadienis', '15'), ('Sekmadienis', '16'), ('Sekmadienis', '17'), ('Sekmadienis', '18'), ('Sekmadienis', '19')]\n"
     ]
    }
   ],
   "source": [
    "#4 KOSMOSAS........\n",
    "dienos = ('Pirmadienis', 'Antradienis', 'Treciadienis','Ketvirtadienis', 'Penktadienis', 'Sestadienis' , 'Sekmadienis')\n",
    "valandos = ['10', '11', '12', '13', '14', '15', '16', '17', '18', '19']\n",
    "\n",
    "kombi = []\n",
    "for diena in dienos:\n",
    "    for valanda in valandos:\n",
    "        print(diena, valanda)\n",
    "        kombi.append( (diena, valanda))\n",
    "        print(f' {diena} {valanda}')\n",
    "print(kombi)"
   ]
  },
  {
   "cell_type": "code",
   "execution_count": 131,
   "metadata": {},
   "outputs": [
    {
     "name": "stdout",
     "output_type": "stream",
     "text": [
      "yra \"ka\"\n"
     ]
    }
   ],
   "source": []
  }
 ],
 "metadata": {
  "kernelspec": {
   "display_name": "Python 3.10.6 64-bit",
   "language": "python",
   "name": "python3"
  },
  "language_info": {
   "codemirror_mode": {
    "name": "ipython",
    "version": 3
   },
   "file_extension": ".py",
   "mimetype": "text/x-python",
   "name": "python",
   "nbconvert_exporter": "python",
   "pygments_lexer": "ipython3",
   "version": "3.10.6"
  },
  "orig_nbformat": 4,
  "vscode": {
   "interpreter": {
    "hash": "afb734500600fd355917ca529030176ea0ca205570884b88f2f6f7d791fd3fbe"
   }
  }
 },
 "nbformat": 4,
 "nbformat_minor": 2
}
