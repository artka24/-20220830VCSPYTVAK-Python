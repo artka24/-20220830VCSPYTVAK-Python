{
 "cells": [
  {
   "cell_type": "code",
   "execution_count": 10,
   "metadata": {},
   "outputs": [
    {
     "name": "stdout",
     "output_type": "stream",
     "text": [
      "(4, 7, 9, 11, 16, 3, 9, 18, 23)\n",
      "(4, 7, 9, 11, 16, 3, 9, 18)\n",
      "[3, 4, 7, 9, 9, 11, 16, 18, 23]\n",
      "[3, 4, 7, 9, 9, 11, 16, 18]\n",
      "2\n"
     ]
    }
   ],
   "source": [
    "#1\n",
    "my_list1 = (4, 7, 9, 11, 16)\n",
    "my_list2 = (3, 9, 18, 23)\n",
    "my_list3 = my_list1 + my_list2\n",
    "print(my_list3)\n",
    "print(my_list3[:-1])\n",
    "print(sorted(my_list3))\n",
    "print(sorted(my_list3[:-1]))\n",
    "print(my_list3.count(9))"
   ]
  },
  {
   "cell_type": "code",
   "execution_count": 22,
   "metadata": {},
   "outputs": [
    {
     "name": "stdout",
     "output_type": "stream",
     "text": [
      "(12, 48, 98, 101, 12, 35, 45, 89, 12)\n",
      "(12, 48, 98, 101, 12, 35, 45, 89)\n",
      "[12, 12, 12, 35, 45, 48, 89, 98, 101]\n",
      "3\n",
      "101\n"
     ]
    }
   ],
   "source": [
    "#1\n",
    "list1=(12,48,98,101)\n",
    "list2=(12,35,45,89,12)\n",
    "list3= list1+list2\n",
    "print(list3)\n",
    "print(list3[:-1])\n",
    "print(sorted(list3))\n",
    "print(list3.count(12))\n",
    "print(list3[3])"
   ]
  },
  {
   "cell_type": "code",
   "execution_count": 23,
   "metadata": {},
   "outputs": [
    {
     "name": "stdout",
     "output_type": "stream",
     "text": [
      "0\n",
      "1\n",
      "2\n",
      "3\n",
      "4\n",
      "5\n",
      "6\n",
      "7\n",
      "8\n",
      "9\n",
      "10\n",
      "11\n",
      "12\n",
      "13\n",
      "14\n",
      "15\n",
      "16\n",
      "17\n",
      "18\n",
      "19\n",
      "1275\n"
     ]
    }
   ],
   "source": [
    "#2.2\n",
    "for skaiciai in range (20):\n",
    "    print(skaiciai )\n",
    "\n",
    "suma = 0\n",
    "for skaiciai in range (0,51):\n",
    "    suma = suma + skaiciai\n",
    "print(suma)"
   ]
  },
  {
   "cell_type": "code",
   "execution_count": 32,
   "metadata": {},
   "outputs": [
    {
     "name": "stdout",
     "output_type": "stream",
     "text": [
      "1\n",
      "2\n",
      "3\n",
      "4\n",
      "5\n",
      "6\n",
      "7\n",
      "8\n",
      "9\n",
      "10\n"
     ]
    }
   ],
   "source": [
    "#3\n",
    "pasirinktas_sakicius = input('Iveskite norima skaiciu')\n",
    "pasirinktas_skaicius = int(pasirinktas_sakicius)\n",
    "\n",
    "for x in range(1,11):\n",
    "    print(x * pasirinktas_skaicius)\n",
    "\n"
   ]
  },
  {
   "cell_type": "code",
   "execution_count": 73,
   "metadata": {},
   "outputs": [
    {
     "name": "stdout",
     "output_type": "stream",
     "text": [
      "3\n"
     ]
    }
   ],
   "source": [
    "3#\n",
    "skaiciux = int(input('iveskite norima skaiciuka'))\n",
    "if skaiciux **2 == 0:\n",
    "    print('lyg')\n",
    "elif skaiciux **2== 0:\n",
    "    print('nelyg')\n",
    "    skaiciux %= 4\n",
    "print(skaiciux)\n"
   ]
  },
  {
   "cell_type": "code",
   "execution_count": 69,
   "metadata": {},
   "outputs": [
    {
     "data": {
      "text/plain": [
       "9"
      ]
     },
     "execution_count": 69,
     "metadata": {},
     "output_type": "execute_result"
    }
   ],
   "source": [
    "pow(3,2)"
   ]
  }
 ],
 "metadata": {
  "kernelspec": {
   "display_name": "Python 3.10.6 64-bit",
   "language": "python",
   "name": "python3"
  },
  "language_info": {
   "codemirror_mode": {
    "name": "ipython",
    "version": 3
   },
   "file_extension": ".py",
   "mimetype": "text/x-python",
   "name": "python",
   "nbconvert_exporter": "python",
   "pygments_lexer": "ipython3",
   "version": "3.10.6"
  },
  "orig_nbformat": 4,
  "vscode": {
   "interpreter": {
    "hash": "afb734500600fd355917ca529030176ea0ca205570884b88f2f6f7d791fd3fbe"
   }
  }
 },
 "nbformat": 4,
 "nbformat_minor": 2
}
