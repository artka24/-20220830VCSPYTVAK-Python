{
 "cells": [
  {
   "cell_type": "code",
   "execution_count": 10,
   "metadata": {},
   "outputs": [
    {
     "name": "stdout",
     "output_type": "stream",
     "text": [
      "(4, 7, 9, 11, 16, 3, 9, 18, 23)\n",
      "(4, 7, 9, 11, 16, 3, 9, 18)\n",
      "[3, 4, 7, 9, 9, 11, 16, 18, 23]\n",
      "[3, 4, 7, 9, 9, 11, 16, 18]\n",
      "2\n"
     ]
    }
   ],
   "source": [
    "#1 PIRMA UOZDUOTIS\n",
    "my_list1 = (4, 7, 9, 11, 16)\n",
    "my_list2 = (3, 9, 18, 23)\n",
    "my_list3 = my_list1 + my_list2\n",
    "print(my_list3)\n",
    "print(my_list3[:-1])\n",
    "print(sorted(my_list3))\n",
    "print(sorted(my_list3[:-1]))\n",
    "print(my_list3.count(9))"
   ]
  },
  {
   "cell_type": "code",
   "execution_count": null,
   "metadata": {},
   "outputs": [],
   "source": []
  },
  {
   "cell_type": "code",
   "execution_count": 1,
   "metadata": {},
   "outputs": [
    {
     "name": "stdout",
     "output_type": "stream",
     "text": [
      "(12, 48, 98, 101, 12, 35, 45, 89, 12)\n",
      "(12, 48, 98, 101, 12, 35, 45, 89)\n",
      "[12, 12, 12, 35, 45, 48, 89, 98, 101]\n",
      "3\n",
      "12\n"
     ]
    }
   ],
   "source": [
    "#1 PIRMA UZDUOTIS\n",
    "list1=(12,48,98,101)\n",
    "list2=(12,35,45,89,12)\n",
    "list3= list1+list2\n",
    "print(list3)\n",
    "print(list3[:-1])\n",
    "print(sorted(list3))\n",
    "print(list3.count(12))\n",
    "print(list3[-1])"
   ]
  },
  {
   "cell_type": "code",
   "execution_count": 71,
   "metadata": {},
   "outputs": [
    {
     "ename": "SyntaxError",
     "evalue": "invalid syntax (1729168799.py, line 5)",
     "output_type": "error",
     "traceback": [
      "\u001b[1;36m  Input \u001b[1;32mIn [71]\u001b[1;36m\u001b[0m\n\u001b[1;33m    suma = // 0\u001b[0m\n\u001b[1;37m           ^\u001b[0m\n\u001b[1;31mSyntaxError\u001b[0m\u001b[1;31m:\u001b[0m invalid syntax\n"
     ]
    }
   ],
   "source": [
    "#2.2 ANTRA UZDUOTIS(NEUSISIPRATIMAI?)\n",
    "for skaiciai in range (20):\n",
    "    print(skaiciai )\n",
    "\n",
    "suma = 0\n",
    "for skaiciai in range (0,51):\n",
    "    suma = suma + skaiciai\n",
    "print(suma)"
   ]
  },
  {
   "cell_type": "code",
   "execution_count": 16,
   "metadata": {},
   "outputs": [],
   "source": [
    "#2.2 TAISYTAS\n",
    "for i in range(1,51):\n",
    "    suma = i + skaiciai\n",
    "if i /3== 0 :\n",
    "    print(i)"
   ]
  },
  {
   "cell_type": "code",
   "execution_count": 153,
   "metadata": {},
   "outputs": [
    {
     "name": "stdout",
     "output_type": "stream",
     "text": [
      "range(0, 21) be <class 'range'>\n",
      "0\n"
     ]
    }
   ],
   "source": [
    "#2.1(NESUSIPRATIMAI))\n",
    "suma = number \n",
    "suma = range(0,21)\n",
    "print(f'{suma} be {type(suma)}')\n",
    "print(21 % 3)"
   ]
  },
  {
   "cell_type": "code",
   "execution_count": 70,
   "metadata": {},
   "outputs": [
    {
     "ename": "TypeError",
     "evalue": "unsupported operand type(s) for %: 'int' and 'range'",
     "output_type": "error",
     "traceback": [
      "\u001b[1;31m---------------------------------------------------------------------------\u001b[0m",
      "\u001b[1;31mTypeError\u001b[0m                                 Traceback (most recent call last)",
      "\u001b[1;32mc:\\Users\\User\\Desktop\\-20220830VCSPYTVAK-Python\\trecios_pamokosbandymai.ipynb Cell 5\u001b[0m in \u001b[0;36m<cell line: 3>\u001b[1;34m()\u001b[0m\n\u001b[0;32m      <a href='vscode-notebook-cell:/c%3A/Users/User/Desktop/-20220830VCSPYTVAK-Python/trecios_pamokosbandymai.ipynb#W4sZmlsZQ%3D%3D?line=2'>3</a>\u001b[0m \u001b[39mfor\u001b[39;00m x \u001b[39min\u001b[39;00m \u001b[39mrange\u001b[39m(\u001b[39m1\u001b[39m,\u001b[39m21\u001b[39m):\n\u001b[0;32m      <a href='vscode-notebook-cell:/c%3A/Users/User/Desktop/-20220830VCSPYTVAK-Python/trecios_pamokosbandymai.ipynb#W4sZmlsZQ%3D%3D?line=3'>4</a>\u001b[0m     x \u001b[39m/\u001b[39m\u001b[39m3\u001b[39m \u001b[39m==\u001b[39m \u001b[39m0\u001b[39m\n\u001b[1;32m----> <a href='vscode-notebook-cell:/c%3A/Users/User/Desktop/-20220830VCSPYTVAK-Python/trecios_pamokosbandymai.ipynb#W4sZmlsZQ%3D%3D?line=4'>5</a>\u001b[0m     \u001b[39mprint\u001b[39m(x \u001b[39m%\u001b[39;49m skaicius)\n",
      "\u001b[1;31mTypeError\u001b[0m: unsupported operand type(s) for %: 'int' and 'range'"
     ]
    }
   ],
   "source": [
    "#2.1 VEL BANDYMAI ........\n",
    "skaicius = int(range(1,21))\n",
    "for x in range(1,21):\n",
    "    print(x * skaicius)"
   ]
  },
  {
   "cell_type": "code",
   "execution_count": 2,
   "metadata": {},
   "outputs": [
    {
     "name": "stdout",
     "output_type": "stream",
     "text": [
      "1 dalyba is 3 1.\n",
      "2 dalyba is 3 2.\n",
      "3 dalyba is 3 0.\n",
      "4 dalyba is 3 1.\n",
      "5 dalyba is 3 2.\n",
      "6 dalyba is 3 0.\n",
      "7 dalyba is 3 1.\n",
      "8 dalyba is 3 2.\n",
      "9 dalyba is 3 0.\n",
      "10 dalyba is 3 1.\n",
      "11 dalyba is 3 2.\n",
      "12 dalyba is 3 0.\n",
      "13 dalyba is 3 1.\n",
      "14 dalyba is 3 2.\n",
      "15 dalyba is 3 0.\n",
      "16 dalyba is 3 1.\n",
      "17 dalyba is 3 2.\n",
      "18 dalyba is 3 0.\n",
      "19 dalyba is 3 1.\n",
      "20 dalyba is 3 2.\n"
     ]
    }
   ],
   "source": [
    "#2.1 VEL BANDYMAI KAIP NORS KITAIP...\n",
    "for i in range(1, 21):\n",
    "    float = i % 3\n",
    "    print(f\"{i} dalyba is 3 {int(float)}.\")\n"
   ]
  },
  {
   "cell_type": "code",
   "execution_count": 3,
   "metadata": {},
   "outputs": [
    {
     "name": "stdout",
     "output_type": "stream",
     "text": [
      "3 Dalinas is 3\n",
      "6 Dalinas is 3\n",
      "9 Dalinas is 3\n",
      "12 Dalinas is 3\n",
      "15 Dalinas is 3\n",
      "18 Dalinas is 3\n"
     ]
    }
   ],
   "source": [
    "#2.1 TAiSYTAS\n",
    "for i in range(1,21):\n",
    "    if i % 3 == 0:\n",
    "        print(f'{i} Dalinasi is 3')"
   ]
  },
  {
   "cell_type": "code",
   "execution_count": 23,
   "metadata": {},
   "outputs": [],
   "source": [
    "#2.2.0 TAISYTAS\n",
    "for i in range(1,51):\n",
    "    if i %3 +3 == 0 :\n",
    "        print(i)"
   ]
  },
  {
   "cell_type": "code",
   "execution_count": 28,
   "metadata": {},
   "outputs": [
    {
     "name": "stdout",
     "output_type": "stream",
     "text": [
      "skaicus lyginis\n"
     ]
    }
   ],
   "source": [
    "#3 TRECIA UZDUOTIS....\n",
    "pasirinktas_sakicius = input('Iveskite norima skaiciu')\n",
    "pasirinktas_skaicius = int(pasirinktas_sakicius)\n",
    "\n",
    "for x in range(1,11):\n",
    "    print(x ** pasirinktas_skaicius)\n",
    "\n"
   ]
  },
  {
   "cell_type": "code",
   "execution_count": 24,
   "metadata": {},
   "outputs": [],
   "source": [
    "#3 nesusigaudau\n",
    "skaiciux = int(input('iveskite norima skaiciuka'))\n",
    "if skaiciux **2 == 0:\n",
    "    print('lyg')\n",
    "elif skaiciux **2== 0:\n",
    "    print(skaiciux)\n",
    "\n"
   ]
  },
  {
   "cell_type": "code",
   "execution_count": 32,
   "metadata": {},
   "outputs": [
    {
     "name": "stdout",
     "output_type": "stream",
     "text": [
      "nelyginis skaicius\n"
     ]
    }
   ],
   "source": [
    "#3 TAISYTAS\n",
    "pasirinktas_sakicius = input('Iveskite norima skaiciu')\n",
    "pasirinktas_skaicius = int(pasirinktas_sakicius)\n",
    "\n",
    "if (pasirinktas_skaicius **2) % 2 == 0:\n",
    "    print('skaicus lyginis')\n",
    "else:\n",
    "    print('nelyginis skaicius')"
   ]
  },
  {
   "cell_type": "code",
   "execution_count": 107,
   "metadata": {},
   "outputs": [],
   "source": [
    "#4 KOSMOSAS......\n",
    "dienos = ('Pirmadienis', 'Antradienis', 'Treciadienis','Ketvirtadienis', 'Penktadienis', 'Sestadienis' , 'Sekmadienis')\n",
    "valandos = ['10', '11', '12', '13', '14', '15', '16', '17', '18', '19']\n",
    "\n",
    "if dienos == ('Pirmadiensis', 'Antradienis', 'Ketvirtadienis', 'Penktadienis', 'Sestadienis' , 'Sekmadienis'):\n",
    "    print(valandos)"
   ]
  },
  {
   "cell_type": "code",
   "execution_count": 109,
   "metadata": {},
   "outputs": [
    {
     "name": "stdout",
     "output_type": "stream",
     "text": [
      "Pirmadienis 10\n"
     ]
    },
    {
     "ename": "TypeError",
     "evalue": "list.append() takes exactly one argument (2 given)",
     "output_type": "error",
     "traceback": [
      "\u001b[1;31m---------------------------------------------------------------------------\u001b[0m",
      "\u001b[1;31mTypeError\u001b[0m                                 Traceback (most recent call last)",
      "\u001b[1;32mc:\\Users\\User\\Desktop\\-20220830VCSPYTVAK-Python\\trecios_pamokosbandymai.ipynb Cell 15\u001b[0m in \u001b[0;36m<cell line: 6>\u001b[1;34m()\u001b[0m\n\u001b[0;32m      <a href='vscode-notebook-cell:/c%3A/Users/User/Desktop/-20220830VCSPYTVAK-Python/trecios_pamokosbandymai.ipynb#X13sZmlsZQ%3D%3D?line=6'>7</a>\u001b[0m     \u001b[39mfor\u001b[39;00m valanda \u001b[39min\u001b[39;00m valandos:\n\u001b[0;32m      <a href='vscode-notebook-cell:/c%3A/Users/User/Desktop/-20220830VCSPYTVAK-Python/trecios_pamokosbandymai.ipynb#X13sZmlsZQ%3D%3D?line=7'>8</a>\u001b[0m         \u001b[39mprint\u001b[39m(diena, valanda)\n\u001b[1;32m----> <a href='vscode-notebook-cell:/c%3A/Users/User/Desktop/-20220830VCSPYTVAK-Python/trecios_pamokosbandymai.ipynb#X13sZmlsZQ%3D%3D?line=8'>9</a>\u001b[0m         kombi\u001b[39m.\u001b[39;49mappend( diena, valanda)\n\u001b[0;32m     <a href='vscode-notebook-cell:/c%3A/Users/User/Desktop/-20220830VCSPYTVAK-Python/trecios_pamokosbandymai.ipynb#X13sZmlsZQ%3D%3D?line=9'>10</a>\u001b[0m         \u001b[39mprint\u001b[39m(\u001b[39mf\u001b[39m\u001b[39m'\u001b[39m\u001b[39m \u001b[39m\u001b[39m{\u001b[39;00mdiena\u001b[39m}\u001b[39;00m\u001b[39m \u001b[39m\u001b[39m{\u001b[39;00mvalanda\u001b[39m}\u001b[39;00m\u001b[39m'\u001b[39m)\n\u001b[0;32m     <a href='vscode-notebook-cell:/c%3A/Users/User/Desktop/-20220830VCSPYTVAK-Python/trecios_pamokosbandymai.ipynb#X13sZmlsZQ%3D%3D?line=10'>11</a>\u001b[0m \u001b[39mprint\u001b[39m(kombi\u001b[39m.\u001b[39mappend(\u001b[39mf\u001b[39m\u001b[39m'\u001b[39m\u001b[39mdiena\u001b[39m\u001b[39m'\u001b[39m))\n",
      "\u001b[1;31mTypeError\u001b[0m: list.append() takes exactly one argument (2 given)"
     ]
    }
   ],
   "source": [
    "#4 KOSMOSAS........\n",
    "dienos = ('Pirmadienis', 'Antradienis', 'Treciadienis','Ketvirtadienis', 'Penktadienis', 'Sestadienis' , 'Sekmadienis')\n",
    "valandos = ['10', '11', '12', '13', '14', '15', '16', '17', '18', '19']\n",
    "\n",
    "kombi = []\n",
    "for diena in dienos:\n",
    "    for valanda in valandos:\n",
    "        print(diena, valanda)\n",
    "        kombi.append( diena, valanda)\n",
    "        print(f' {diena} {valanda}')\n",
    "print(kombi.append(f'diena'))\n",
    "print(kombi.append(valanda[::3]))"
   ]
  },
  {
   "cell_type": "code",
   "execution_count": 24,
   "metadata": {},
   "outputs": [
    {
     "name": "stdout",
     "output_type": "stream",
     "text": [
      "3\n"
     ]
    }
   ],
   "source": [
    "#6.BANDYMAS\n",
    "skaicius = int(input(\"iveskite norima skaiciu:\"))\n",
    "\n",
    "if skaicius >= 10 :\n",
    "    print(f'Jusu pasirinktas skaicius: {skaicius}, yra daugiau arba lygus 10')\n",
    "elif skaicius % 5 == 0:\n",
    "    print(int(input))\n",
    "    skaicius /= 5\n",
    "else: print(skaicius)"
   ]
  },
  {
   "cell_type": "code",
   "execution_count": 36,
   "metadata": {},
   "outputs": [
    {
     "name": "stdout",
     "output_type": "stream",
     "text": [
      "nelyginis\n",
      "0\n"
     ]
    }
   ],
   "source": [
    "#6 VEL BANDYMAS\n",
    "x = int(input(\"pasirinkite skaiciu:\"))\n",
    "\n",
    "if x >= 10:\n",
    "    print('lyginis')\n",
    "    x %= 5\n",
    "else:\n",
    "    print('nelyginis')\n",
    "    x %=5\n",
    "print(x )"
   ]
  },
  {
   "cell_type": "code",
   "execution_count": 89,
   "metadata": {},
   "outputs": [],
   "source": [
    "#6 TAISYTAS(BLOGAS?)\n",
    "skaicius = int(input(\"iveskite norima skaiciu:\"))\n",
    "for skaiciai in range(1, 10):\n",
    "    if skaicius % 5 == 0:\n",
    "        print('blogas')"
   ]
  },
  {
   "cell_type": "code",
   "execution_count": 105,
   "metadata": {},
   "outputs": [
    {
     "name": "stdout",
     "output_type": "stream",
     "text": [
      "111\n",
      "5\n",
      "10\n",
      "15\n",
      "20\n",
      "25\n",
      "30\n",
      "35\n",
      "40\n",
      "45\n",
      "50\n",
      "55\n",
      "60\n",
      "65\n",
      "70\n",
      "75\n",
      "80\n",
      "85\n",
      "90\n",
      "95\n",
      "100\n",
      "105\n",
      "110\n"
     ]
    }
   ],
   "source": [
    "#6 TAISYTAS(GAL GERAI?)\n",
    "skc = int(input(\"pasirinktas skaicius:\"))\n",
    "if skc >= 10:\n",
    "    print(skc)\n",
    "for skc in range(1, skc):\n",
    "    if skc %5== 0:\n",
    "        print(skc)\n"
   ]
  },
  {
   "cell_type": "code",
   "execution_count": 56,
   "metadata": {},
   "outputs": [
    {
     "name": "stdout",
     "output_type": "stream",
     "text": [
      "fizz\n"
     ]
    }
   ],
   "source": [
    "#5 fizz buzz\n",
    "num = int(100)\n",
    "if num %2==0:\n",
    "    print('fizz')\n",
    "else:\n",
    "    if num %3== 0:\n",
    "        print('buzz')\n",
    "\n"
   ]
  },
  {
   "cell_type": "code",
   "execution_count": 36,
   "metadata": {},
   "outputs": [
    {
     "name": "stdout",
     "output_type": "stream",
     "text": [
      "buzz\n",
      "3\n"
     ]
    }
   ],
   "source": [
    "x = int(input(\"iveskite amziu:\"))\n",
    "\n",
    "if x % 2 == 0:\n",
    "    print('fizz')\n",
    "    x /= 2\n",
    "else:\n",
    "    print('buzz')\n",
    "    x *=3\n",
    "print(x)"
   ]
  },
  {
   "cell_type": "code",
   "execution_count": 100,
   "metadata": {},
   "outputs": [
    {
     "name": "stdout",
     "output_type": "stream",
     "text": [
      "range(0, 101)\n"
     ]
    },
    {
     "ename": "TypeError",
     "evalue": "unsupported operand type(s) for %: 'range' and 'int'",
     "output_type": "error",
     "traceback": [
      "\u001b[1;31m---------------------------------------------------------------------------\u001b[0m",
      "\u001b[1;31mTypeError\u001b[0m                                 Traceback (most recent call last)",
      "\u001b[1;32mc:\\Users\\User\\Desktop\\-20220830VCSPYTVAK-Python\\trecios_pamokosbandymai.ipynb Cell 16\u001b[0m in \u001b[0;36m<cell line: 3>\u001b[1;34m()\u001b[0m\n\u001b[0;32m      <a href='vscode-notebook-cell:/c%3A/Users/User/Desktop/-20220830VCSPYTVAK-Python/trecios_pamokosbandymai.ipynb#X21sZmlsZQ%3D%3D?line=0'>1</a>\u001b[0m skaiciai \u001b[39m=\u001b[39m \u001b[39mrange\u001b[39m(\u001b[39m0\u001b[39m, \u001b[39m101\u001b[39m)\n\u001b[0;32m      <a href='vscode-notebook-cell:/c%3A/Users/User/Desktop/-20220830VCSPYTVAK-Python/trecios_pamokosbandymai.ipynb#X21sZmlsZQ%3D%3D?line=1'>2</a>\u001b[0m \u001b[39mprint\u001b[39m(skaiciai)\n\u001b[1;32m----> <a href='vscode-notebook-cell:/c%3A/Users/User/Desktop/-20220830VCSPYTVAK-Python/trecios_pamokosbandymai.ipynb#X21sZmlsZQ%3D%3D?line=2'>3</a>\u001b[0m \u001b[39mif\u001b[39;00m skaiciai \u001b[39m%\u001b[39;49m\u001b[39m3\u001b[39;49m\u001b[39m==\u001b[39m \u001b[39m0\u001b[39m:\n\u001b[0;32m      <a href='vscode-notebook-cell:/c%3A/Users/User/Desktop/-20220830VCSPYTVAK-Python/trecios_pamokosbandymai.ipynb#X21sZmlsZQ%3D%3D?line=3'>4</a>\u001b[0m     \u001b[39mprint\u001b[39m(\u001b[39m'\u001b[39m\u001b[39mfizz\u001b[39m\u001b[39m'\u001b[39m)\n",
      "\u001b[1;31mTypeError\u001b[0m: unsupported operand type(s) for %: 'range' and 'int'"
     ]
    }
   ],
   "source": [
    "skaiciai = range(0, 101)\n",
    "print(skaiciai)\n",
    "if skaiciai %3== 0:\n",
    "    print('fizz')\n",
    "\n",
    "\n"
   ]
  },
  {
   "cell_type": "code",
   "execution_count": 116,
   "metadata": {},
   "outputs": [
    {
     "name": "stdout",
     "output_type": "stream",
     "text": [
      "fizz\n",
      "fizz\n",
      "buzz\n",
      "fizz\n",
      "fizz\n"
     ]
    }
   ],
   "source": [
    "for fizzbuzz in range(0,10):\n",
    "    if fizzbuzz % 3 == 0:\n",
    "        print('fizz')\n",
    "        continue\n",
    "    elif fizzbuzz % 5 == 0:\n",
    "        print('buzz')\n",
    "        continue\n",
    "    else: \n",
    "        if fizzbuzz % 5 == 0:\n",
    "            print('fizzbuzz')\n",
    "    continue"
   ]
  },
  {
   "cell_type": "code",
   "execution_count": 34,
   "metadata": {},
   "outputs": [
    {
     "ename": "SyntaxError",
     "evalue": "unterminated string literal (detected at line 5) (3822240087.py, line 5)",
     "output_type": "error",
     "traceback": [
      "\u001b[1;36m  Input \u001b[1;32mIn [34]\u001b[1;36m\u001b[0m\n\u001b[1;33m    print(f'{'buzz'} )\u001b[0m\n\u001b[1;37m                  ^\u001b[0m\n\u001b[1;31mSyntaxError\u001b[0m\u001b[1;31m:\u001b[0m unterminated string literal (detected at line 5)\n"
     ]
    }
   ],
   "source": [
    "for fizzbuzz in range(0,10):\n",
    "    if fizzbuzz % 3 == 0:\n",
    "        print('fizz')\n",
    "elif fizzbuzz % 5 == 0:\n",
    "    print(f'{'buzz'} )\n",
    "else:\n",
    "    if fizzbuzz % 5 == 0:\n",
    "        print(f'{'fizzbuzz'})\n"
   ]
  },
  {
   "cell_type": "code",
   "execution_count": 41,
   "metadata": {},
   "outputs": [
    {
     "name": "stdout",
     "output_type": "stream",
     "text": [
      "0 - fizz\n",
      "2 - fizz\n",
      "3 - buzzz\n",
      "4 - fizz\n",
      "6 - fizz\n",
      "8 - fizz\n",
      "9 - buzzz\n",
      "10 - fizz\n",
      "12 - fizz\n",
      "14 - fizz\n",
      "15 - buzzz\n",
      "16 - fizz\n",
      "18 - fizz\n",
      "20 - fizz\n",
      "21 - buzzz\n",
      "22 - fizz\n",
      "24 - fizz\n",
      "26 - fizz\n",
      "27 - buzzz\n",
      "28 - fizz\n",
      "30 - fizz\n",
      "32 - fizz\n",
      "33 - buzzz\n",
      "34 - fizz\n",
      "36 - fizz\n",
      "38 - fizz\n",
      "39 - buzzz\n",
      "40 - fizz\n",
      "42 - fizz\n",
      "44 - fizz\n",
      "45 - buzzz\n",
      "46 - fizz\n",
      "48 - fizz\n",
      "50 - fizz\n",
      "51 - buzzz\n",
      "52 - fizz\n",
      "54 - fizz\n",
      "56 - fizz\n",
      "57 - buzzz\n",
      "58 - fizz\n",
      "60 - fizz\n",
      "62 - fizz\n",
      "63 - buzzz\n",
      "64 - fizz\n",
      "66 - fizz\n",
      "68 - fizz\n",
      "69 - buzzz\n",
      "70 - fizz\n",
      "72 - fizz\n",
      "74 - fizz\n",
      "75 - buzzz\n",
      "76 - fizz\n",
      "78 - fizz\n",
      "80 - fizz\n",
      "81 - buzzz\n",
      "82 - fizz\n",
      "84 - fizz\n",
      "86 - fizz\n",
      "87 - buzzz\n",
      "88 - fizz\n",
      "90 - fizz\n",
      "92 - fizz\n",
      "93 - buzzz\n",
      "94 - fizz\n",
      "96 - fizz\n",
      "98 - fizz\n",
      "99 - buzzz\n",
      "100 - fizz\n"
     ]
    }
   ],
   "source": [
    "#5 TAISYTAS\n",
    "for first in range(0,101):\n",
    "    if first % 2 == 0:\n",
    "        print(f'{first} - fizz')\n",
    "        continue\n",
    "    elif first % 3 == 0:\n",
    "        print(f'{first} - buzzz')\n",
    "        continue\n",
    "    else:\n",
    "        if (first %2) % 3 == 0:\n",
    "            print(f'{first} - fizzbuzz')\n"
   ]
  },
  {
   "cell_type": "code",
   "execution_count": null,
   "metadata": {},
   "outputs": [],
   "source": []
  }
 ],
 "metadata": {
  "kernelspec": {
   "display_name": "Python 3.10.6 64-bit",
   "language": "python",
   "name": "python3"
  },
  "language_info": {
   "codemirror_mode": {
    "name": "ipython",
    "version": 3
   },
   "file_extension": ".py",
   "mimetype": "text/x-python",
   "name": "python",
   "nbconvert_exporter": "python",
   "pygments_lexer": "ipython3",
   "version": "3.10.6"
  },
  "orig_nbformat": 4,
  "vscode": {
   "interpreter": {
    "hash": "afb734500600fd355917ca529030176ea0ca205570884b88f2f6f7d791fd3fbe"
   }
  }
 },
 "nbformat": 4,
 "nbformat_minor": 2
}
