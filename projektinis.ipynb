{
 "cells": [
  {
   "cell_type": "code",
   "execution_count": 22,
   "metadata": {},
   "outputs": [
    {
     "name": "stdout",
     "output_type": "stream",
     "text": [
      "jonas\n"
     ]
    },
    {
     "ename": "TypeError",
     "evalue": "'str' object cannot be interpreted as an integer",
     "output_type": "error",
     "traceback": [
      "\u001b[1;31m---------------------------------------------------------------------------\u001b[0m",
      "\u001b[1;31mTypeError\u001b[0m                                 Traceback (most recent call last)",
      "\u001b[1;32mc:\\Users\\User\\Desktop\\-20220830VCSPYTVAK-Python\\projektinis.ipynb Cell 1\u001b[0m in \u001b[0;36m<cell line: 20>\u001b[1;34m()\u001b[0m\n\u001b[0;32m     <a href='vscode-notebook-cell:/c%3A/Users/User/Desktop/-20220830VCSPYTVAK-Python/projektinis.ipynb#X10sZmlsZQ%3D%3D?line=16'>17</a>\u001b[0m simboliu_ilgis \u001b[39m=\u001b[39m \u001b[39mint\u001b[39m(\u001b[39minput\u001b[39m(\u001b[39m'\u001b[39m\u001b[39mKiek simboliu norite, kad butu slaptazodyje? : \u001b[39m\u001b[39m'\u001b[39m))\n\u001b[0;32m     <a href='vscode-notebook-cell:/c%3A/Users/User/Desktop/-20220830VCSPYTVAK-Python/projektinis.ipynb#X10sZmlsZQ%3D%3D?line=18'>19</a>\u001b[0m randomNum \u001b[39m=\u001b[39m \u001b[39m'\u001b[39m\u001b[39m'\u001b[39m\n\u001b[1;32m---> <a href='vscode-notebook-cell:/c%3A/Users/User/Desktop/-20220830VCSPYTVAK-Python/projektinis.ipynb#X10sZmlsZQ%3D%3D?line=19'>20</a>\u001b[0m \u001b[39mfor\u001b[39;00m num \u001b[39min\u001b[39;00m \u001b[39mrange\u001b[39;49m(skaiciai) :\n\u001b[0;32m     <a href='vscode-notebook-cell:/c%3A/Users/User/Desktop/-20220830VCSPYTVAK-Python/projektinis.ipynb#X10sZmlsZQ%3D%3D?line=20'>21</a>\u001b[0m     randomNum \u001b[39m+\u001b[39m\u001b[39m=\u001b[39m skaiciai[random\u001b[39m.\u001b[39mrandint(\u001b[39m0\u001b[39m,\u001b[39m10\u001b[39m)]\n\u001b[0;32m     <a href='vscode-notebook-cell:/c%3A/Users/User/Desktop/-20220830VCSPYTVAK-Python/projektinis.ipynb#X10sZmlsZQ%3D%3D?line=21'>22</a>\u001b[0m     \u001b[39mif\u001b[39;00m raidziu_ilgis \u001b[39m<\u001b[39m\u001b[39m=\u001b[39m \u001b[39m0\u001b[39m:\n",
      "\u001b[1;31mTypeError\u001b[0m: 'str' object cannot be interpreted as an integer"
     ]
    }
   ],
   "source": [
    "\n",
    "import random\n",
    "import itertools\n",
    "\n",
    "\n",
    "raides = ['q','w','e','r','t','y','u','i','o','p','a','s','d','f','g','h','j','k','l','z','x','c','v','b','n','m']\n",
    "skaiciai = '1234567890'\n",
    "simboliai = ['!','@','#','$','%','^','&','*','+','_',\"'\"]\n",
    "\n",
    "vardas = input('Kuo jus vardu?')\n",
    "if vardas:\n",
    "    print(vardas)\n",
    "else:\n",
    "    print('Iveskit varda!') \n",
    "\n",
    "skaiciu_ilgis = int(input('Kiek skaiciu norite, kad butu slaptazodyje? : '))\n",
    "raidziu_ilgis = int(input('Kiek raidziu norite, kad butu slaptazodyje? : '))\n",
    "simboliu_ilgis = int(input('Kiek simboliu norite, kad butu slaptazodyje? : '))\n",
    "\n",
    "randomNum = ''\n",
    "for num in range(skaiciai) :\n",
    "    randomNum += skaiciai[random.randint(0,10)]\n",
    "    if raidziu_ilgis <= 0:\n",
    "        print('Pasirinkti raidziu kieki naujai generuojame slaptazodyje yra privaloma, norint sugeneruoti tvirta slaptazodi!')\n",
    "\n",
    "\n",
    "\n",
    "\n",
    "randomSym = ''\n",
    "for sym in range(0, simboliu_ilgis):\n",
    "    randomSym += simboliai[random.randint(0,11)]\n",
    "    if simboliu_ilgis <=0:\n",
    "        print('Pasirinkti simboliu kieki naujai generuojame slaptazodyje yra privaloma, norint sugeneruoti tvirta slaptazodi!')\n",
    "\n",
    "\n",
    "\n",
    "randomChar = ''\n",
    "for char in range(0, raidziu_ilgis) :\n",
    "    randomChar += raides[random.randint(0, 25)]\n",
    "\n",
    "\n",
    "\n",
    "generuotaslist = list(itertools.chain(randomNum,randomSym,randomChar))\n",
    "\n",
    "Password = ''\n",
    "total = len(generuotaslist)\n",
    "for raides in generuotaslist:\n",
    "     Password += generuotaslist[random.randint(0,total - 1)]\n",
    "\n",
    "print(f'{vardas} Jusu sugeneruotas slaptazodis yra : {Password}')"
   ]
  },
  {
   "cell_type": "code",
   "execution_count": 1,
   "metadata": {},
   "outputs": [
    {
     "name": "stdout",
     "output_type": "stream",
     "text": [
      "vardas yra \n",
      "Sveiki! 0\n"
     ]
    }
   ],
   "source": [
    "vardas = ''\n",
    "pateiktas_vardas = input('Kuo Jus Vardu?')\n",
    "if pateiktas_vardas == '':\n",
    "    pateiktas_vardas = input('Neirasete savo vardo! Koks Jusu vardas?')\n",
    "print(f'vardas yra {vardas}')\n",
    "if pateiktas_vardas != '':\n",
    "    vardas = pateiktas_vardas\n",
    "    print(f'Sveiki! {vardas}')"
   ]
  },
  {
   "cell_type": "code",
   "execution_count": 21,
   "metadata": {},
   "outputs": [
    {
     "name": "stdout",
     "output_type": "stream",
     "text": [
      "ivesl vard\n"
     ]
    }
   ],
   "source": [
    "raides = ['q','w','e','r','t','y']\n",
    "skaiciai = ['1','2','3','4','5',]\n",
    "simboliai = ['!','@','#','$','%','^','&',]\n",
    "\n",
    "\n",
    "vardelis = input('koks vardas')\n",
    "ivestis_raidziu = int(input('kiek raidziu'))\n",
    "ivestis_skaiciu = int(input('kiek skaiciu'))\n",
    "ivestis_simboliu = int(input('kiek simbiliu'))\n",
    "\n",
    "vard = ''\n",
    "if vardelis:\n",
    "    print(vardelis)\n",
    "else:\n",
    "    print('ivesl vard')\n",
    "\n"
   ]
  }
 ],
 "metadata": {
  "kernelspec": {
   "display_name": "Python 3.10.6 64-bit",
   "language": "python",
   "name": "python3"
  },
  "language_info": {
   "codemirror_mode": {
    "name": "ipython",
    "version": 3
   },
   "file_extension": ".py",
   "mimetype": "text/x-python",
   "name": "python",
   "nbconvert_exporter": "python",
   "pygments_lexer": "ipython3",
   "version": "3.10.6"
  },
  "orig_nbformat": 4,
  "vscode": {
   "interpreter": {
    "hash": "afb734500600fd355917ca529030176ea0ca205570884b88f2f6f7d791fd3fbe"
   }
  }
 },
 "nbformat": 4,
 "nbformat_minor": 2
}
