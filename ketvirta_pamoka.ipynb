{
 "cells": [
  {
   "cell_type": "markdown",
   "metadata": {},
   "source": [
    "List comprehension"
   ]
  },
  {
   "cell_type": "code",
   "execution_count": 3,
   "metadata": {},
   "outputs": [
    {
     "ename": "NameError",
     "evalue": "name 'numbers' is not defined",
     "output_type": "error",
     "traceback": [
      "\u001b[1;31m---------------------------------------------------------------------------\u001b[0m",
      "\u001b[1;31mNameError\u001b[0m                                 Traceback (most recent call last)",
      "\u001b[1;32mc:\\Users\\User\\Desktop\\-20220830VCSPYTVAK-Python\\ketvirta_pamoka.ipynb Cell 2\u001b[0m in \u001b[0;36m<cell line: 3>\u001b[1;34m()\u001b[0m\n\u001b[0;32m      <a href='vscode-notebook-cell:/c%3A/Users/User/Desktop/-20220830VCSPYTVAK-Python/ketvirta_pamoka.ipynb#W2sZmlsZQ%3D%3D?line=0'>1</a>\u001b[0m number \u001b[39m=\u001b[39m \u001b[39mlist\u001b[39m(\u001b[39mrange\u001b[39m(\u001b[39m1\u001b[39m,\u001b[39m21\u001b[39m))\n\u001b[0;32m      <a href='vscode-notebook-cell:/c%3A/Users/User/Desktop/-20220830VCSPYTVAK-Python/ketvirta_pamoka.ipynb#W2sZmlsZQ%3D%3D?line=1'>2</a>\u001b[0m dividible_by3 \u001b[39m=\u001b[39m []\n\u001b[1;32m----> <a href='vscode-notebook-cell:/c%3A/Users/User/Desktop/-20220830VCSPYTVAK-Python/ketvirta_pamoka.ipynb#W2sZmlsZQ%3D%3D?line=2'>3</a>\u001b[0m \u001b[39mfor\u001b[39;00m number \u001b[39min\u001b[39;00m numbers:\n\u001b[0;32m      <a href='vscode-notebook-cell:/c%3A/Users/User/Desktop/-20220830VCSPYTVAK-Python/ketvirta_pamoka.ipynb#W2sZmlsZQ%3D%3D?line=3'>4</a>\u001b[0m     \u001b[39mif\u001b[39;00m number \u001b[39m%\u001b[39m \u001b[39m3\u001b[39m \u001b[39m==\u001b[39m \u001b[39m0\u001b[39m:\n\u001b[0;32m      <a href='vscode-notebook-cell:/c%3A/Users/User/Desktop/-20220830VCSPYTVAK-Python/ketvirta_pamoka.ipynb#W2sZmlsZQ%3D%3D?line=4'>5</a>\u001b[0m         dividible_by3\u001b[39m.\u001b[39mappend(number)\n",
      "\u001b[1;31mNameError\u001b[0m: name 'numbers' is not defined"
     ]
    }
   ],
   "source": [
    "number = list(range(1,21))\n",
    "dividible_by3 = []\n",
    "for number in numbers:\n",
    "    if number % 3 == 0:\n",
    "        dividible_by3.append(number)\n",
    "        print(dividible_by3)"
   ]
  },
  {
   "cell_type": "code",
   "execution_count": 5,
   "metadata": {},
   "outputs": [
    {
     "name": "stdout",
     "output_type": "stream",
     "text": [
      "[6, 12, 18, 24, 30, 36]\n"
     ]
    }
   ],
   "source": [
    "dividible_by3 = [ number *2 for number in range(1,21) if number %3 ==0]\n",
    "print(dividible_by3)"
   ]
  },
  {
   "cell_type": "code",
   "execution_count": 6,
   "metadata": {},
   "outputs": [
    {
     "name": "stdout",
     "output_type": "stream",
     "text": [
      "[3, 6, 9, 12, 15, 18]\n"
     ]
    }
   ],
   "source": [
    "dividible_by3 = [ number  for number in range(1,21) if number %3 ==0]\n",
    "print(dividible_by3)"
   ]
  },
  {
   "cell_type": "code",
   "execution_count": 7,
   "metadata": {},
   "outputs": [
    {
     "name": "stdout",
     "output_type": "stream",
     "text": [
      "['1 nesidalina is 3 ', '2 nesidalina is 3 ', 3, '4 nesidalina is 3 ', '5 nesidalina is 3 ', 6, '7 nesidalina is 3 ', '8 nesidalina is 3 ', 9, '10 nesidalina is 3 ', '11 nesidalina is 3 ', 12, '13 nesidalina is 3 ', '14 nesidalina is 3 ', 15, '16 nesidalina is 3 ', '17 nesidalina is 3 ', 18, '19 nesidalina is 3 ', '20 nesidalina is 3 ']\n"
     ]
    }
   ],
   "source": [
    "dividible_by3 = [ number if number %3 ==0 else f'{number} nesidalina is 3 ' for number in range(1,21)]\n",
    "print(dividible_by3)"
   ]
  },
  {
   "cell_type": "code",
   "execution_count": null,
   "metadata": {},
   "outputs": [],
   "source": []
  },
  {
   "cell_type": "markdown",
   "metadata": {},
   "source": [
    "None aka null , nill"
   ]
  },
  {
   "cell_type": "code",
   "execution_count": null,
   "metadata": {},
   "outputs": [],
   "source": [
    "niekas = None\n",
    "print(niekas)\n",
    "print(type(niekas))"
   ]
  },
  {
   "cell_type": "code",
   "execution_count": 8,
   "metadata": {},
   "outputs": [
    {
     "name": "stdout",
     "output_type": "stream",
     "text": [
      "None\n"
     ]
    }
   ],
   "source": [
    "list_1 = [5,4,7]\n",
    "print(list_1.sort())"
   ]
  },
  {
   "cell_type": "code",
   "execution_count": 10,
   "metadata": {},
   "outputs": [],
   "source": [
    "vardas = ''\n",
    "vardas = input('Koks tavo vardas?')\n",
    "if vardas == '':\n",
    "    \n",
    "if vardas == 'jonas':\n",
    "    print('Sveikas Jonai!')"
   ]
  },
  {
   "cell_type": "code",
   "execution_count": 11,
   "metadata": {},
   "outputs": [
    {
     "ename": "SyntaxError",
     "evalue": "invalid syntax. Maybe you meant '==' or ':=' instead of '='? (3807730848.py, line 3)",
     "output_type": "error",
     "traceback": [
      "\u001b[1;36m  Input \u001b[1;32mIn [11]\u001b[1;36m\u001b[0m\n\u001b[1;33m    if pateiktas_vardas = '':\u001b[0m\n\u001b[1;37m       ^\u001b[0m\n\u001b[1;31mSyntaxError\u001b[0m\u001b[1;31m:\u001b[0m invalid syntax. Maybe you meant '==' or ':=' instead of '='?\n"
     ]
    }
   ],
   "source": [
    "vardas = None\n",
    "pateiktas_vardas = input('koks tavo vardas')\n",
    "if pateiktas_vardas = '':\n",
    "    pateiktas_vardas = input('vardas neivestas')\n",
    "print(f'vardas yra {vardas} ')\n",
    "if pateiktas_vardas != '':\n",
    "    vardas = pateiktas_vardas:\n",
    "    print(f'vardas yra {vardas}')\n"
   ]
  },
  {
   "cell_type": "markdown",
   "metadata": {},
   "source": [
    "DICTIONARY"
   ]
  },
  {
   "cell_type": "code",
   "execution_count": 12,
   "metadata": {},
   "outputs": [
    {
     "name": "stdout",
     "output_type": "stream",
     "text": [
      "{'vardas': 'Arturas', 'amzius': 29}\n"
     ]
    }
   ],
   "source": [
    "me = {\n",
    "    'vardas': 'Arturas',\n",
    "    'amzius': 29\n",
    "}\n",
    "print(me)"
   ]
  },
  {
   "cell_type": "code",
   "execution_count": 14,
   "metadata": {},
   "outputs": [
    {
     "name": "stdout",
     "output_type": "stream",
     "text": [
      "Arturas\n"
     ]
    }
   ],
   "source": [
    "print(me[ 'vardas' ])"
   ]
  },
  {
   "cell_type": "code",
   "execution_count": 17,
   "metadata": {},
   "outputs": [
    {
     "name": "stdout",
     "output_type": "stream",
     "text": [
      "{'vardas': 'Arturas', 'amzius': 29, 'honiai': ['tenisas', 'automobiliai'], 'hobiai': ['vanduo', 'automobiliai']}\n",
      "{'vardas': 'Arturas', 'amzius': 29, 'honiai': ['tenisas', 'automobiliai'], 'hobiai': ['vanduo', 'automobiliai']}\n"
     ]
    }
   ],
   "source": [
    "me['hobiai'] = ['vanduo', 'automobiliai']\n",
    "print(me)\n",
    "me['amzius'] = 29\n",
    "print(me)"
   ]
  },
  {
   "cell_type": "code",
   "execution_count": 21,
   "metadata": {},
   "outputs": [
    {
     "name": "stdout",
     "output_type": "stream",
     "text": [
      "tiesa\n",
      "penki\n"
     ]
    }
   ],
   "source": [
    "someone = {\n",
    "    True: 'tiesa',\n",
    "    False: 'false',\n",
    "    5: 'penki'\n",
    "}\n",
    "print(someone[True])\n",
    "print(someone[5])"
   ]
  },
  {
   "cell_type": "code",
   "execution_count": 22,
   "metadata": {},
   "outputs": [
    {
     "name": "stdout",
     "output_type": "stream",
     "text": [
      "{'vardas': 'Arturas', 'amzius': 29, 'honiai': ['tenisas', 'automobiliai'], 'hobiai': ['vanduo', 'automobiliai']}\n",
      "4\n"
     ]
    }
   ],
   "source": [
    "print(me)\n",
    "print(len(me))"
   ]
  },
  {
   "cell_type": "markdown",
   "metadata": {},
   "source": [
    "DICTIONARY IS MUTABLE.BE CAREFULL"
   ]
  },
  {
   "cell_type": "code",
   "execution_count": null,
   "metadata": {},
   "outputs": [],
   "source": [
    "#LOOK AT LESSON 3"
   ]
  },
  {
   "cell_type": "code",
   "execution_count": 25,
   "metadata": {},
   "outputs": [
    {
     "name": "stdout",
     "output_type": "stream",
     "text": [
      "{'vardas': 'Arturas', 'amzius': 29, 'honiai': ['tenisas', 'automobiliai'], 'hobiai': ['vanduo', 'automobiliai'], 'pavarde': 'Kairys'}\n",
      "{'vardas': 'Arturas', 'amzius': 29, 'honiai': ['tenisas', 'automobiliai'], 'hobiai': ['vanduo', 'automobiliai'], 'pavarde': 'Kairys'}\n"
     ]
    }
   ],
   "source": [
    "print(me)\n",
    "me['pavarde'] = 'Kairys'\n",
    "print(me)"
   ]
  },
  {
   "cell_type": "code",
   "execution_count": 27,
   "metadata": {},
   "outputs": [
    {
     "name": "stdout",
     "output_type": "stream",
     "text": [
      "{'honiai': ['tenisas', 'automobiliai'], 'hobiai': ['vanduo', 'automobiliai'], 'pavarde': 'Kairys'}\n"
     ]
    }
   ],
   "source": [
    "me.pop('vardas')\n",
    "print(me)"
   ]
  },
  {
   "cell_type": "code",
   "execution_count": 28,
   "metadata": {},
   "outputs": [
    {
     "name": "stdout",
     "output_type": "stream",
     "text": [
      "('pavarde', 'Kairys')\n",
      "{'honiai': ['tenisas', 'automobiliai'], 'hobiai': ['vanduo', 'automobiliai']}\n"
     ]
    }
   ],
   "source": [
    "print(me.popitem())\n",
    "print(me)"
   ]
  },
  {
   "cell_type": "code",
   "execution_count": 30,
   "metadata": {},
   "outputs": [
    {
     "name": "stdout",
     "output_type": "stream",
     "text": [
      "None\n",
      "nerastas\n"
     ]
    }
   ],
   "source": [
    "\n",
    "print(me.get('neegzistuojantis'))\n",
    "print(me.get('neegzistuojantis', 'nerastas'))"
   ]
  },
  {
   "cell_type": "code",
   "execution_count": 31,
   "metadata": {},
   "outputs": [],
   "source": [
    "nauji_duomenys = {'amzius': 30, 'hobiai': ['futbolas'], 'masina': 'VW'}\n",
    "\n",
    "me.update(nauji_duomenys)"
   ]
  },
  {
   "cell_type": "code",
   "execution_count": 33,
   "metadata": {},
   "outputs": [
    {
     "name": "stdout",
     "output_type": "stream",
     "text": [
      "['tenisas', 'automobiliai']\n",
      "['futbolas']\n",
      "30\n",
      "VW\n"
     ]
    }
   ],
   "source": [
    "for value in me.values():\n",
    "    print(value)"
   ]
  },
  {
   "cell_type": "code",
   "execution_count": 34,
   "metadata": {},
   "outputs": [
    {
     "name": "stdout",
     "output_type": "stream",
     "text": [
      "honiai\n",
      "hobiai\n",
      "amzius\n",
      "masina\n"
     ]
    }
   ],
   "source": [
    "for key in me.keys():\n",
    "    print(key)"
   ]
  },
  {
   "cell_type": "code",
   "execution_count": 35,
   "metadata": {},
   "outputs": [
    {
     "name": "stdout",
     "output_type": "stream",
     "text": [
      " key is honiai with a value of ['tenisas', 'automobiliai']\n",
      " key is hobiai with a value of ['futbolas']\n",
      " key is amzius with a value of 30\n",
      " key is masina with a value of VW\n"
     ]
    }
   ],
   "source": [
    "for key , value in me.items():\n",
    "    print(f' key is {key} with a value of {value}')"
   ]
  },
  {
   "cell_type": "code",
   "execution_count": null,
   "metadata": {},
   "outputs": [],
   "source": []
  },
  {
   "cell_type": "code",
   "execution_count": 37,
   "metadata": {},
   "outputs": [
    {
     "name": "stdout",
     "output_type": "stream",
     "text": [
      "3\n",
      "{'brand': 'Ford', 'model': 'Mustang', 'year': 2022}\n"
     ]
    }
   ],
   "source": [
    "car =\t{\n",
    "  \"brand\": \"Ford\",\n",
    "  \"model\": \"Mustang\",\n",
    "  \"year\": 1964\n",
    "}\n",
    "car['year'] = 2022\n",
    "print(len(car))\n",
    "print(car)"
   ]
  },
  {
   "cell_type": "code",
   "execution_count": 43,
   "metadata": {},
   "outputs": [
    {
     "ename": "SyntaxError",
     "evalue": "expression expected after dictionary key and ':' (1260192673.py, line 6)",
     "output_type": "error",
     "traceback": [
      "\u001b[1;36m  Input \u001b[1;32mIn [43]\u001b[1;36m\u001b[0m\n\u001b[1;33m    \"used\" :\u001b[0m\n\u001b[1;37m           ^\u001b[0m\n\u001b[1;31mSyntaxError\u001b[0m\u001b[1;31m:\u001b[0m expression expected after dictionary key and ':'\n"
     ]
    }
   ],
   "source": [
    "car =\t{\n",
    "  \"brand\": \"Ford\",\n",
    "  \"model\": \"Mustang\",\n",
    "  \"year\": '1964',\n",
    "  \"color\": 'red',\n",
    "  \"used\" :\n",
    "  \n",
    "}\n",
    "car.uptade({'color':'red', 'used':\n",
    "True})\n",
    "print(car)"
   ]
  },
  {
   "cell_type": "markdown",
   "metadata": {},
   "source": [
    "SET DEKLARACIJA"
   ]
  },
  {
   "cell_type": "code",
   "execution_count": 45,
   "metadata": {},
   "outputs": [
    {
     "name": "stdout",
     "output_type": "stream",
     "text": [
      "{1, 2, 99, 3, 4, 'a', 'b'}\n"
     ]
    }
   ],
   "source": [
    "#SET\n",
    "my_set={99,1,2,3,4,1,1,1,1,'a','b' }\n",
    "print(my_set)"
   ]
  },
  {
   "cell_type": "code",
   "execution_count": 47,
   "metadata": {},
   "outputs": [
    {
     "ename": "TypeError",
     "evalue": "'set' object is not subscriptable",
     "output_type": "error",
     "traceback": [
      "\u001b[1;31m---------------------------------------------------------------------------\u001b[0m",
      "\u001b[1;31mTypeError\u001b[0m                                 Traceback (most recent call last)",
      "\u001b[1;32mc:\\Users\\User\\Desktop\\-20220830VCSPYTVAK-Python\\ketvirta_pamoka.ipynb Cell 33\u001b[0m in \u001b[0;36m<cell line: 1>\u001b[1;34m()\u001b[0m\n\u001b[1;32m----> <a href='vscode-notebook-cell:/c%3A/Users/User/Desktop/-20220830VCSPYTVAK-Python/ketvirta_pamoka.ipynb#X46sZmlsZQ%3D%3D?line=0'>1</a>\u001b[0m my_set[::\u001b[39m0\u001b[39;49m]\n",
      "\u001b[1;31mTypeError\u001b[0m: 'set' object is not subscriptable"
     ]
    }
   ],
   "source": [
    "my_set[0]"
   ]
  },
  {
   "cell_type": "code",
   "execution_count": 48,
   "metadata": {},
   "outputs": [
    {
     "data": {
      "text/plain": [
       "False"
      ]
     },
     "execution_count": 48,
     "metadata": {},
     "output_type": "execute_result"
    }
   ],
   "source": [
    "5 in my_set"
   ]
  },
  {
   "cell_type": "code",
   "execution_count": 49,
   "metadata": {},
   "outputs": [
    {
     "data": {
      "text/plain": [
       "7"
      ]
     },
     "execution_count": 49,
     "metadata": {},
     "output_type": "execute_result"
    }
   ],
   "source": [
    "len(my_set)"
   ]
  },
  {
   "cell_type": "code",
   "execution_count": 51,
   "metadata": {},
   "outputs": [
    {
     "name": "stdout",
     "output_type": "stream",
     "text": [
      "{1, 2, 99, 3, 4, 'a', 'b', 24}\n",
      "{1, 2, 99, 3, 4, 'a', 'b', 24}\n",
      "{1, 2, 99, 3, 4, 'b', 300, 400, 22, 'a', 24}\n"
     ]
    }
   ],
   "source": [
    "my_set.add(4)\n",
    "print(my_set)\n",
    "my_set.add(24)\n",
    "print(my_set)\n",
    "my_set.update( {300, 400, 22})\n",
    "print(my_set)"
   ]
  },
  {
   "cell_type": "code",
   "execution_count": 52,
   "metadata": {},
   "outputs": [],
   "source": [
    "my_set={1, 2, 99, 3, 4, 'a', 'b', 24}\n",
    "my_set.remove(4)"
   ]
  },
  {
   "cell_type": "code",
   "execution_count": 59,
   "metadata": {},
   "outputs": [
    {
     "name": "stdout",
     "output_type": "stream",
     "text": [
      "{1, 2, 99, 3, 'b', 'a', 24}\n"
     ]
    }
   ],
   "source": [
    "my_set={1, 2, 99, 3, 4, 'a', 'b', 24}\n",
    "my_set.discard(4)\n",
    "print(my_set)"
   ]
  },
  {
   "cell_type": "code",
   "execution_count": 62,
   "metadata": {},
   "outputs": [
    {
     "name": "stdout",
     "output_type": "stream",
     "text": [
      "{1, 2, 99, 3, 'b', 'a', 24}\n",
      "{400, 2, 999}\n",
      "{1, 2, 99, 3, 999, 'b', 400, 'a', 24}\n"
     ]
    }
   ],
   "source": [
    "my_set_2 = {2,400,999}\n",
    "print(my_set)\n",
    "print(my_set_2)\n",
    "my_set.union(my_set_2)\n",
    "print(my_set.union(my_set_2))"
   ]
  },
  {
   "cell_type": "code",
   "execution_count": 63,
   "metadata": {},
   "outputs": [
    {
     "name": "stdout",
     "output_type": "stream",
     "text": [
      "{1, 3, 99, 'b', 'a', 24}\n"
     ]
    }
   ],
   "source": [
    "print(my_set.difference(my_set_2))"
   ]
  },
  {
   "cell_type": "code",
   "execution_count": 64,
   "metadata": {},
   "outputs": [
    {
     "name": "stdout",
     "output_type": "stream",
     "text": [
      "{2}\n"
     ]
    }
   ],
   "source": [
    "print(my_set.intersection(my_set_2))"
   ]
  },
  {
   "cell_type": "code",
   "execution_count": 65,
   "metadata": {},
   "outputs": [
    {
     "name": "stdout",
     "output_type": "stream",
     "text": [
      "True\n"
     ]
    }
   ],
   "source": [
    "small_set = {2,4}\n",
    "big_set = {1,2,3,4,5}\n",
    "small_set.issubset(big_set)\n",
    "print(small_set.issubset(big_set))"
   ]
  },
  {
   "cell_type": "code",
   "execution_count": 69,
   "metadata": {},
   "outputs": [
    {
     "name": "stdout",
     "output_type": "stream",
     "text": [
      "{'apple', 'Pear', 'banana', 'cherry'}\n"
     ]
    }
   ],
   "source": [
    "fruits = {'apple', 'banana', 'cherry'}\n",
    "fruits.add('Pear')\n",
    "print(fruits)\n"
   ]
  },
  {
   "cell_type": "code",
   "execution_count": 72,
   "metadata": {},
   "outputs": [
    {
     "ename": "AttributeError",
     "evalue": "'set' object has no attribute 'dicard'",
     "output_type": "error",
     "traceback": [
      "\u001b[1;31m---------------------------------------------------------------------------\u001b[0m",
      "\u001b[1;31mAttributeError\u001b[0m                            Traceback (most recent call last)",
      "\u001b[1;32mc:\\Users\\User\\Desktop\\-20220830VCSPYTVAK-Python\\ketvirta_pamoka.ipynb Cell 44\u001b[0m in \u001b[0;36m<cell line: 2>\u001b[1;34m()\u001b[0m\n\u001b[0;32m      <a href='vscode-notebook-cell:/c%3A/Users/User/Desktop/-20220830VCSPYTVAK-Python/ketvirta_pamoka.ipynb#X64sZmlsZQ%3D%3D?line=0'>1</a>\u001b[0m fruits \u001b[39m=\u001b[39m {\u001b[39m'\u001b[39m\u001b[39mapple\u001b[39m\u001b[39m'\u001b[39m, \u001b[39m'\u001b[39m\u001b[39mbanana\u001b[39m\u001b[39m'\u001b[39m, \u001b[39m'\u001b[39m\u001b[39mcherry\u001b[39m\u001b[39m'\u001b[39m}\n\u001b[1;32m----> <a href='vscode-notebook-cell:/c%3A/Users/User/Desktop/-20220830VCSPYTVAK-Python/ketvirta_pamoka.ipynb#X64sZmlsZQ%3D%3D?line=1'>2</a>\u001b[0m fruits\u001b[39m.\u001b[39;49mdicard(\u001b[39m'\u001b[39m\u001b[39mapple\u001b[39m\u001b[39m'\u001b[39m)\n\u001b[0;32m      <a href='vscode-notebook-cell:/c%3A/Users/User/Desktop/-20220830VCSPYTVAK-Python/ketvirta_pamoka.ipynb#X64sZmlsZQ%3D%3D?line=2'>3</a>\u001b[0m fruits\u001b[39m.\u001b[39madd(\u001b[39m'\u001b[39m\u001b[39mwatermelon\u001b[39m\u001b[39m'\u001b[39m)\n",
      "\u001b[1;31mAttributeError\u001b[0m: 'set' object has no attribute 'dicard'"
     ]
    }
   ],
   "source": [
    "fruits = {'apple', 'banana', 'cherry'}\n",
    "fruits.dicard('apple')\n",
    "fruits.add('watermelon')"
   ]
  }
 ],
 "metadata": {
  "kernelspec": {
   "display_name": "Python 3.10.6 64-bit",
   "language": "python",
   "name": "python3"
  },
  "language_info": {
   "codemirror_mode": {
    "name": "ipython",
    "version": 3
   },
   "file_extension": ".py",
   "mimetype": "text/x-python",
   "name": "python",
   "nbconvert_exporter": "python",
   "pygments_lexer": "ipython3",
   "version": "3.10.6"
  },
  "orig_nbformat": 4,
  "vscode": {
   "interpreter": {
    "hash": "afb734500600fd355917ca529030176ea0ca205570884b88f2f6f7d791fd3fbe"
   }
  }
 },
 "nbformat": 4,
 "nbformat_minor": 2
}
